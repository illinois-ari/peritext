{
  "nbformat": 4,
  "nbformat_minor": 0,
  "metadata": {
    "colab": {
      "provenance": []
    },
    "kernelspec": {
      "name": "python3",
      "display_name": "Python 3"
    },
    "language_info": {
      "name": "python"
    }
  },
  "cells": [
    {
      "cell_type": "code",
      "source": [
        "import pandas as pd"
      ],
      "metadata": {
        "id": "dVnSiJc0B7bR"
      },
      "execution_count": null,
      "outputs": []
    },
    {
      "cell_type": "markdown",
      "source": [
        "### sam"
      ],
      "metadata": {
        "id": "UiSBzs2QifPt"
      }
    },
    {
      "cell_type": "code",
      "execution_count": null,
      "metadata": {
        "id": "kIaEErSGBcjB"
      },
      "outputs": [],
      "source": [
        "df_1 = pd.read_csv('sam_list1_annotations.csv')\n",
        "df_2 = pd.read_csv('sam_list2_annotations.csv')\n",
        "df_3 = pd.read_csv('sam_list3_annotations.csv')\n",
        "df_4 = pd.read_csv('sam_list4_annotations.csv')\n",
        "df_5 = pd.read_csv('sam_list5_annotations.csv')\n",
        "#"
      ]
    },
    {
      "cell_type": "code",
      "source": [
        "df_list = [df_1, df_2, df_3, df_4, df_5]"
      ],
      "metadata": {
        "id": "gewzhJcRDoHz"
      },
      "execution_count": null,
      "outputs": []
    },
    {
      "cell_type": "code",
      "source": [
        "def rename_pages(df):\n",
        "  df['Page'] = df['Page'].str.extract(r'(\\d+)').astype(int)\n",
        "  return df\n",
        "\n",
        "[rename_pages(d) for d in df_list]"
      ],
      "metadata": {
        "id": "6p0xn07jCta8",
        "colab": {
          "base_uri": "https://localhost:8080/",
          "height": 180
        },
        "outputId": "749e55d5-db7a-4fb2-c912-87dab2b43091"
      },
      "execution_count": null,
      "outputs": [
        {
          "output_type": "error",
          "ename": "NameError",
          "evalue": "name 'df_list' is not defined",
          "traceback": [
            "\u001b[0;31m---------------------------------------------------------------------------\u001b[0m",
            "\u001b[0;31mNameError\u001b[0m                                 Traceback (most recent call last)",
            "\u001b[0;32m<ipython-input-6-d3cf6102c4a6>\u001b[0m in \u001b[0;36m<cell line: 5>\u001b[0;34m()\u001b[0m\n\u001b[1;32m      3\u001b[0m   \u001b[0;32mreturn\u001b[0m \u001b[0mdf\u001b[0m\u001b[0;34m\u001b[0m\u001b[0;34m\u001b[0m\u001b[0m\n\u001b[1;32m      4\u001b[0m \u001b[0;34m\u001b[0m\u001b[0m\n\u001b[0;32m----> 5\u001b[0;31m \u001b[0;34m[\u001b[0m\u001b[0mrename_pages\u001b[0m\u001b[0;34m(\u001b[0m\u001b[0md\u001b[0m\u001b[0;34m)\u001b[0m \u001b[0;32mfor\u001b[0m \u001b[0md\u001b[0m \u001b[0;32min\u001b[0m \u001b[0mdf_list\u001b[0m\u001b[0;34m]\u001b[0m\u001b[0;34m\u001b[0m\u001b[0;34m\u001b[0m\u001b[0m\n\u001b[0m",
            "\u001b[0;31mNameError\u001b[0m: name 'df_list' is not defined"
          ]
        }
      ]
    },
    {
      "cell_type": "code",
      "source": [
        "l1=df_1['ID'].unique()\n",
        "l2=df_2['ID'].unique()\n",
        "l3=df_3['ID'].unique()\n",
        "l4=df_4['ID'].unique()\n",
        "l5=df_5['ID'].unique()"
      ],
      "metadata": {
        "id": "o5_rXAOVIx7y"
      },
      "execution_count": null,
      "outputs": []
    },
    {
      "cell_type": "code",
      "source": [
        "\n",
        "unique_ids = set()\n",
        "\n",
        "def add_ids(id_list):\n",
        "    unique_ids.update(id_list)\n",
        "\n",
        "\n",
        "add_ids(l1)\n",
        "add_ids(l2)\n",
        "add_ids(l3)\n",
        "add_ids(l4)\n",
        "add_ids(l5)\n",
        "\n",
        "sam_ids = list(unique_ids)\n"
      ],
      "metadata": {
        "id": "PEcqNQkYXYGE"
      },
      "execution_count": null,
      "outputs": []
    },
    {
      "cell_type": "code",
      "source": [
        "len(sam_ids)"
      ],
      "metadata": {
        "colab": {
          "base_uri": "https://localhost:8080/"
        },
        "id": "dl9cRkXabr5f",
        "outputId": "04757d92-d777-44fe-eb7b-a2b21684dea5"
      },
      "execution_count": null,
      "outputs": [
        {
          "output_type": "execute_result",
          "data": {
            "text/plain": [
              "210"
            ]
          },
          "metadata": {},
          "execution_count": 9
        }
      ]
    },
    {
      "cell_type": "code",
      "source": [
        "df_sam = pd.concat(df_list)\n",
        "\n",
        "df_sam_unique = df_sam.drop_duplicates(subset=['ID', 'Page', 'State'])\n",
        "\n",
        "duplicates = df_sam[df_sam.duplicated(subset=['ID', 'Page'], keep=False)]\n",
        "\n",
        "\n",
        "df_sam_unique = df_sam_unique.reset_index(drop=True)\n"
      ],
      "metadata": {
        "id": "Esxjf-X9d2iQ"
      },
      "execution_count": null,
      "outputs": []
    },
    {
      "cell_type": "code",
      "source": [
        "nu = df_sam_unique['ID'].unique()\n",
        "len(nu)"
      ],
      "metadata": {
        "colab": {
          "base_uri": "https://localhost:8080/"
        },
        "id": "Au-wPQP1fv2d",
        "outputId": "712b2df4-1cb5-4c58-fe85-963df03c972b"
      },
      "execution_count": null,
      "outputs": [
        {
          "output_type": "execute_result",
          "data": {
            "text/plain": [
              "210"
            ]
          },
          "metadata": {},
          "execution_count": 11
        }
      ]
    },
    {
      "cell_type": "code",
      "source": [
        "df_sam_unique.to_csv('sam_annotations.csv', index=False)\n",
        "duplicates.to_csv('sam_duplicates.csv', index=False)"
      ],
      "metadata": {
        "id": "0PdNuRzKhjO0"
      },
      "execution_count": null,
      "outputs": []
    },
    {
      "cell_type": "code",
      "source": [],
      "metadata": {
        "id": "iPQRPhleiyPE"
      },
      "execution_count": null,
      "outputs": []
    },
    {
      "cell_type": "markdown",
      "source": [
        "### Mohney"
      ],
      "metadata": {
        "id": "Ri92Mm_ei4KU"
      }
    },
    {
      "cell_type": "code",
      "source": [
        "df_1 = pd.read_csv('Mohney_List1_annotations.csv')\n",
        "df_2 = pd.read_csv('Mohney_List2_annotations.csv')\n",
        "df_3 = pd.read_csv('Mohney_List3_annotations.csv')\n",
        "df_4 = pd.read_csv('Mohney_List4_annotations.csv')\n",
        "df_5 = pd.read_csv('Mohney_List5_annotations.csv')\n"
      ],
      "metadata": {
        "id": "pj2LpX2ti-Mv"
      },
      "execution_count": null,
      "outputs": []
    },
    {
      "cell_type": "code",
      "source": [
        "df_list = [df_1, df_2, df_3, df_4, df_5]\n",
        "[rename_pages(d) for d in df_list]"
      ],
      "metadata": {
        "id": "A7NW-0SRi-Kl",
        "colab": {
          "base_uri": "https://localhost:8080/"
        },
        "outputId": "c94a591d-2996-4dda-cda8-b4fe86bff1d2"
      },
      "execution_count": null,
      "outputs": [
        {
          "output_type": "execute_result",
          "data": {
            "text/plain": [
              "[                       ID  Page  State\n",
              " 0      coo.31924003560871     1  Front\n",
              " 1      coo.31924003560871     2  Front\n",
              " 2      coo.31924003560871     3  Front\n",
              " 3      coo.31924003560871     4  Front\n",
              " 4      coo.31924003560871     5  Front\n",
              " ...                   ...   ...    ...\n",
              " 14766      wu.89077080828   312   Back\n",
              " 14767      wu.89077080828   313   Back\n",
              " 14768      wu.89077080828   314   Back\n",
              " 14769      wu.89077080828   315   Back\n",
              " 14770      wu.89077080828   316   Back\n",
              " \n",
              " [14771 rows x 3 columns],\n",
              "                        ID  Page  State\n",
              " 0      coo.31924003560871     1  Front\n",
              " 1      coo.31924003560871     2  Front\n",
              " 2      coo.31924003560871     3  Front\n",
              " 3      coo.31924003560871     4  Front\n",
              " 4      coo.31924003560871     5  Front\n",
              " ...                   ...   ...    ...\n",
              " 29765      wu.89100334630   380   Back\n",
              " 29766      wu.89100334630   381   Back\n",
              " 29767      wu.89100334630   382   Back\n",
              " 29768      wu.89100334630   383   Back\n",
              " 29769      wu.89100334630   384   Back\n",
              " \n",
              " [29770 rows x 3 columns],\n",
              "                        ID  Page  State\n",
              " 0      coo.31924003560871     1  Front\n",
              " 1      coo.31924003560871     2  Front\n",
              " 2      coo.31924003560871     3  Front\n",
              " 3      coo.31924003560871     4  Front\n",
              " 4      coo.31924003560871     5  Front\n",
              " ...                   ...   ...    ...\n",
              " 47001      wu.89097347298   256   Back\n",
              " 47002      wu.89097347298   257   Back\n",
              " 47003      wu.89097347298   258   Back\n",
              " 47004      wu.89097347298   259   Back\n",
              " 47005      wu.89097347298   260   Back\n",
              " \n",
              " [47006 rows x 3 columns],\n",
              "                        ID  Page  State\n",
              " 0      coo.31924003560871     1  Front\n",
              " 1      coo.31924003560871     2  Front\n",
              " 2      coo.31924003560871     3  Front\n",
              " 3      coo.31924003560871     4  Front\n",
              " 4      coo.31924003560871     5  Front\n",
              " ...                   ...   ...    ...\n",
              " 64283      wu.89099752115   452   Core\n",
              " 64284      wu.89099752115   453   Back\n",
              " 64285      wu.89099752115   454   Back\n",
              " 64286      wu.89099752115   455   Back\n",
              " 64287      wu.89099752115   456   Back\n",
              " \n",
              " [64288 rows x 3 columns],\n",
              "                         ID  Page  State\n",
              " 0       coo.31924003560871     1  Front\n",
              " 1       coo.31924003560871     2  Front\n",
              " 2       coo.31924003560871     3  Front\n",
              " 3       coo.31924003560871     4  Front\n",
              " 4       coo.31924003560871     5  Front\n",
              " ...                    ...   ...    ...\n",
              " 79692  umn.31951000888300t    72   Core\n",
              " 79693  umn.31951000888300t    73   Back\n",
              " 79694  umn.31951000888300t    74   Back\n",
              " 79695  umn.31951000888300t    75   Back\n",
              " 79696  umn.31951000888300t    76   Back\n",
              " \n",
              " [79697 rows x 3 columns]]"
            ]
          },
          "metadata": {},
          "execution_count": 14
        }
      ]
    },
    {
      "cell_type": "code",
      "source": [
        "l1=df_1['ID'].unique()\n",
        "l2=df_2['ID'].unique()\n",
        "l3=df_3['ID'].unique()\n",
        "l4=df_4['ID'].unique()\n",
        "l5=df_5['ID'].unique()"
      ],
      "metadata": {
        "id": "nX2F8jHEi-IT"
      },
      "execution_count": null,
      "outputs": []
    },
    {
      "cell_type": "code",
      "source": [
        "unique_ids = set()\n",
        "\n",
        "def add_ids(id_list):\n",
        "    unique_ids.update(id_list)\n",
        "\n",
        "add_ids(l1)\n",
        "add_ids(l2)\n",
        "add_ids(l3)\n",
        "add_ids(l4)\n",
        "add_ids(l5)\n",
        "mon_ids = list(unique_ids)"
      ],
      "metadata": {
        "id": "fySb4sSAi-GS"
      },
      "execution_count": null,
      "outputs": []
    },
    {
      "cell_type": "code",
      "source": [
        "len(mon_ids)"
      ],
      "metadata": {
        "colab": {
          "base_uri": "https://localhost:8080/"
        },
        "id": "gZRKDDzni-D8",
        "outputId": "348a1038-9427-4069-8612-c399032989c9"
      },
      "execution_count": null,
      "outputs": [
        {
          "output_type": "execute_result",
          "data": {
            "text/plain": [
              "250"
            ]
          },
          "metadata": {},
          "execution_count": 17
        }
      ]
    },
    {
      "cell_type": "code",
      "source": [
        "df_mon = pd.concat(df_list)\n",
        "df_mon_unqiue = df_mon.drop_duplicates(subset=['ID', 'Page', 'State'])\n",
        "duplicates = df_mon[df_mon.duplicated(subset=['ID', 'Page'], keep=False)]\n",
        "df_mon_unqiue = df_mon_unqiue.reset_index(drop=True)"
      ],
      "metadata": {
        "id": "qvR02Fqsi-Bh"
      },
      "execution_count": null,
      "outputs": []
    },
    {
      "cell_type": "code",
      "source": [
        "nu = df_mon_unqiue['ID'].unique()\n",
        "len(nu)"
      ],
      "metadata": {
        "colab": {
          "base_uri": "https://localhost:8080/"
        },
        "id": "jsJaf1q_i97D",
        "outputId": "acd2b038-1398-40f3-998c-78c0f21417c9"
      },
      "execution_count": null,
      "outputs": [
        {
          "output_type": "execute_result",
          "data": {
            "text/plain": [
              "250"
            ]
          },
          "metadata": {},
          "execution_count": 19
        }
      ]
    },
    {
      "cell_type": "code",
      "source": [
        "df_mon_unqiue.to_csv('mon_annotations.csv', index=False)\n",
        "duplicates.to_csv('mon_duplicates.csv', index=False)"
      ],
      "metadata": {
        "id": "wIE9ZZfFkO5K"
      },
      "execution_count": null,
      "outputs": []
    },
    {
      "cell_type": "markdown",
      "source": [
        "### Tan"
      ],
      "metadata": {
        "id": "zHPzJMgnklna"
      }
    },
    {
      "cell_type": "code",
      "source": [
        "# df_1 = pd.read_csv('tan_list1_annotations.csv')\n",
        "# df_2 = pd.read_csv('tan_list2_annotations.csv')\n",
        "# df_3 = pd.read_csv('tan_list3_annotations.csv')\n",
        "df_4 = pd.read_csv('tan_list4_annotations.csv')\n",
        "df_5 = pd.read_csv('tan_list5_annotations.csv')"
      ],
      "metadata": {
        "id": "9H6IHqCVktOg"
      },
      "execution_count": null,
      "outputs": []
    },
    {
      "cell_type": "code",
      "source": [
        "# df_list = [df_1, df_2, df_3]\n",
        "df_list = [df_4, df_5]\n",
        "[rename_pages(d) for d in df_list]"
      ],
      "metadata": {
        "id": "zL1qJP5gk0n-",
        "colab": {
          "base_uri": "https://localhost:8080/"
        },
        "outputId": "fedcb474-6423-4480-baa2-fb392757cad6"
      },
      "execution_count": null,
      "outputs": [
        {
          "output_type": "execute_result",
          "data": {
            "text/plain": [
              "[                              ID  Page  State\n",
              " 0             coo.31924001097280     1  Front\n",
              " 1             coo.31924001097280     2  Front\n",
              " 2             coo.31924001097280     3  Front\n",
              " 3             coo.31924001097280     4  Front\n",
              " 4             coo.31924001097280     5  Front\n",
              " ...                          ...   ...    ...\n",
              " 16191  coo1.ark+=13960=t3hx1x18f   678   Core\n",
              " 16192  coo1.ark+=13960=t3hx1x18f   679   Core\n",
              " 16193  coo1.ark+=13960=t3hx1x18f   680   Core\n",
              " 16194  coo1.ark+=13960=t3hx1x18f   681   Core\n",
              " 16195  coo1.ark+=13960=t3hx1x18f   682   Core\n",
              " \n",
              " [16196 rows x 3 columns],\n",
              "                    ID  Page  State\n",
              " 0        chi.55570964     1  Front\n",
              " 1        chi.55570964     2  Front\n",
              " 2        chi.55570964     3  Front\n",
              " 3        chi.55570964     4  Front\n",
              " 4        chi.55570964     5  Front\n",
              " ...               ...   ...    ...\n",
              " 13997  wu.89101006120   208   Core\n",
              " 13998  wu.89101006120   209   Core\n",
              " 13999  wu.89101006120   210   Core\n",
              " 14000  wu.89101006120   211   Core\n",
              " 14001  wu.89101006120   212   Core\n",
              " \n",
              " [14002 rows x 3 columns]]"
            ]
          },
          "metadata": {},
          "execution_count": 17
        }
      ]
    },
    {
      "cell_type": "code",
      "source": [
        "# l1=df_1['ID'].unique()\n",
        "# l2=df_2['ID'].unique()\n",
        "# l3=df_3['ID'].unique()\n",
        "l4 = df_4['ID'].unique()\n",
        "l5 = df_5['ID'].unique()"
      ],
      "metadata": {
        "id": "KoAy8uV3k6rL"
      },
      "execution_count": null,
      "outputs": []
    },
    {
      "cell_type": "code",
      "source": [
        "unique_ids = set()\n",
        "\n",
        "def add_ids(id_list):\n",
        "    unique_ids.update(id_list)\n",
        "\n",
        "add_ids(l1)\n",
        "add_ids(l2)\n",
        "add_ids(l3)\n",
        "\n",
        "tan_ids = list(unique_ids)"
      ],
      "metadata": {
        "id": "fkfAQ0EWk-77"
      },
      "execution_count": null,
      "outputs": []
    },
    {
      "cell_type": "code",
      "source": [
        "len(tan_ids)"
      ],
      "metadata": {
        "colab": {
          "base_uri": "https://localhost:8080/",
          "height": 144
        },
        "id": "wKd6ynzplDOr",
        "outputId": "d8e06a0d-ea60-4f7c-810c-825d2b5749b1"
      },
      "execution_count": null,
      "outputs": [
        {
          "output_type": "error",
          "ename": "NameError",
          "evalue": "name 'tan_ids' is not defined",
          "traceback": [
            "\u001b[0;31m---------------------------------------------------------------------------\u001b[0m",
            "\u001b[0;31mNameError\u001b[0m                                 Traceback (most recent call last)",
            "\u001b[0;32m<ipython-input-3-def43b6e86f7>\u001b[0m in \u001b[0;36m<cell line: 1>\u001b[0;34m()\u001b[0m\n\u001b[0;32m----> 1\u001b[0;31m \u001b[0mlen\u001b[0m\u001b[0;34m(\u001b[0m\u001b[0mtan_ids\u001b[0m\u001b[0;34m)\u001b[0m\u001b[0;34m\u001b[0m\u001b[0;34m\u001b[0m\u001b[0m\n\u001b[0m",
            "\u001b[0;31mNameError\u001b[0m: name 'tan_ids' is not defined"
          ]
        }
      ]
    },
    {
      "cell_type": "code",
      "source": [
        "df_tan = pd.concat(df_list)\n",
        "df_tan_unique = df_tan.drop_duplicates(subset=['ID', 'Page', 'State'])\n",
        "duplicates = df_tan[df_tan.duplicated(subset=['ID', 'Page'], keep=False)]\n",
        "df_tan_unique = df_tan_unique.reset_index(drop=True)"
      ],
      "metadata": {
        "id": "9L0PWgXXlE4R"
      },
      "execution_count": null,
      "outputs": []
    },
    {
      "cell_type": "code",
      "source": [
        "nu = df_tan_unique['ID'].unique()\n",
        "len(nu)"
      ],
      "metadata": {
        "colab": {
          "base_uri": "https://localhost:8080/"
        },
        "id": "4S8hR9EtlOIF",
        "outputId": "e8389f30-91e8-47dd-d1bf-ec394dbaffba"
      },
      "execution_count": null,
      "outputs": [
        {
          "output_type": "execute_result",
          "data": {
            "text/plain": [
              "100"
            ]
          },
          "metadata": {},
          "execution_count": 23
        }
      ]
    },
    {
      "cell_type": "code",
      "source": [
        "value_to_drop = 'uc2.ark+=13960=t2z31nv6d'\n",
        "df_tan_unique = df_tan_unique[df_tan_unique['ID'] != value_to_drop]"
      ],
      "metadata": {
        "id": "SL8V6AD5zPwn"
      },
      "execution_count": null,
      "outputs": []
    },
    {
      "cell_type": "code",
      "source": [
        "df_tan_unique.to_csv('tan_annotations.csv', index=False)\n",
        "duplicates.to_csv('tan_duplicates.csv', index=False)"
      ],
      "metadata": {
        "id": "-GqBVZjXlUPJ"
      },
      "execution_count": null,
      "outputs": []
    },
    {
      "cell_type": "code",
      "source": [
        "tan_ids.remove('uc2.ark+=13960=t2z31nv6d')"
      ],
      "metadata": {
        "id": "494wx-lO18i2"
      },
      "execution_count": null,
      "outputs": []
    },
    {
      "cell_type": "code",
      "source": [
        "import pandas as pd\n",
        "\n",
        "\n",
        "df_sam = pd.read_csv('sam_annotations.csv')\n",
        "df_mon = pd.read_csv('mon_annotations.csv')\n",
        "df_tan = pd.read_csv('tan_annotations.csv')\n",
        "\n",
        "# Concatenate the DataFrames\n",
        "book_annotation = pd.concat([df_sam, df_mon, df_tan], ignore_index=True)\n",
        "\n",
        "\n",
        "# book_annotation.reset_index(drop=True, inplace=True)\n",
        "\n",
        "# Display the resulting DataFrame\n",
        "book_annotation\n"
      ],
      "metadata": {
        "id": "9N-9QYXglBV0"
      },
      "execution_count": null,
      "outputs": []
    },
    {
      "cell_type": "markdown",
      "source": [
        "### Ana"
      ],
      "metadata": {
        "id": "FATc34f29T4q"
      }
    },
    {
      "cell_type": "code",
      "source": [
        "import pandas as pd\n",
        "ana_1 = pd.read_csv('list6_ana_rev_annotations.csv')\n",
        "\n",
        "def rename_pages(df):\n",
        "  df['Page'] = df['Page'].str.extract(r'(\\d+)').astype(int)\n",
        "  return df"
      ],
      "metadata": {
        "id": "pzGkQikl9lFc"
      },
      "execution_count": null,
      "outputs": []
    },
    {
      "cell_type": "code",
      "source": [
        "rename_pages(ana_1)"
      ],
      "metadata": {
        "id": "exuVDz4-9zx8"
      },
      "execution_count": null,
      "outputs": []
    },
    {
      "cell_type": "code",
      "source": [
        "l= ana_1[\"ID\"].unique()\n"
      ],
      "metadata": {
        "colab": {
          "base_uri": "https://localhost:8080/"
        },
        "id": "-PYWwPdk-AJV",
        "outputId": "e6007328-a9d4-4577-e11e-640592c1e1e5"
      },
      "execution_count": null,
      "outputs": [
        {
          "output_type": "stream",
          "name": "stdout",
          "text": [
            "50\n"
          ]
        }
      ]
    },
    {
      "cell_type": "code",
      "source": [
        "\n",
        "df_ana_unique = ana_1.drop_duplicates(subset=['ID', 'Page', 'State'])\n",
        "\n",
        "duplicates = ana_1[ana_1.duplicated(subset=['ID', 'Page'], keep=False)]\n",
        "\n",
        "\n",
        "df_ana_unique = df_ana_unique.reset_index(drop=True)"
      ],
      "metadata": {
        "id": "VBqXUXj7-POv"
      },
      "execution_count": null,
      "outputs": []
    },
    {
      "cell_type": "code",
      "source": [
        "df_ana_unique.to_csv('ana_annotations.csv', index=False)\n",
        "duplicates.to_csv('ana_duplicates.csv', index=False)"
      ],
      "metadata": {
        "id": "xWsbURqB-WAq"
      },
      "execution_count": null,
      "outputs": []
    },
    {
      "cell_type": "markdown",
      "source": [
        "# extracted_features"
      ],
      "metadata": {
        "id": "xDsHaKV7zaul"
      }
    },
    {
      "cell_type": "code",
      "source": [
        "id_list = tan_ids + mon_ids + sam_ids\n",
        "\n",
        "len(id_list)"
      ],
      "metadata": {
        "colab": {
          "base_uri": "https://localhost:8080/"
        },
        "id": "sSZdwWM52D2Q",
        "outputId": "c0cdb91b-8942-4eb3-89cf-2c77f99072bd"
      },
      "execution_count": null,
      "outputs": [
        {
          "output_type": "execute_result",
          "data": {
            "text/plain": [
              "607"
            ]
          },
          "metadata": {},
          "execution_count": 31
        }
      ]
    },
    {
      "cell_type": "code",
      "source": [
        "!pip install htrc-feature-reader"
      ],
      "metadata": {
        "colab": {
          "base_uri": "https://localhost:8080/"
        },
        "id": "4JZUnNQw2hKa",
        "outputId": "52c94bba-f4af-404b-9a0b-89f6e19fb2a7"
      },
      "execution_count": null,
      "outputs": [
        {
          "output_type": "stream",
          "name": "stdout",
          "text": [
            "Collecting htrc-feature-reader\n",
            "  Downloading htrc-feature-reader-2.0.7.tar.gz (58 kB)\n",
            "\u001b[?25l     \u001b[90m━━━━━━━━━━━━━━━━━━━━━━━━━━━━━━━━━━━━━━━━\u001b[0m \u001b[32m0.0/58.4 kB\u001b[0m \u001b[31m?\u001b[0m eta \u001b[36m-:--:--\u001b[0m\r\u001b[2K     \u001b[90m━━━━━━━━━━━━━━━━━━━━━━━━━━━━━━━━━━━━━━━━\u001b[0m \u001b[32m58.4/58.4 kB\u001b[0m \u001b[31m4.0 MB/s\u001b[0m eta \u001b[36m0:00:00\u001b[0m\n",
            "\u001b[?25h  Preparing metadata (setup.py) ... \u001b[?25l\u001b[?25hdone\n",
            "Requirement already satisfied: six in /usr/local/lib/python3.10/dist-packages (from htrc-feature-reader) (1.16.0)\n",
            "Requirement already satisfied: pandas>=0.24 in /usr/local/lib/python3.10/dist-packages (from htrc-feature-reader) (2.1.4)\n",
            "Requirement already satisfied: requests in /usr/local/lib/python3.10/dist-packages (from htrc-feature-reader) (2.32.3)\n",
            "Collecting python-rapidjson (from htrc-feature-reader)\n",
            "  Downloading python_rapidjson-1.20-cp310-cp310-manylinux_2_17_x86_64.manylinux2014_x86_64.whl.metadata (22 kB)\n",
            "Collecting pymarc (from htrc-feature-reader)\n",
            "  Downloading pymarc-5.2.2-py3-none-any.whl.metadata (12 kB)\n",
            "Requirement already satisfied: numpy<2,>=1.22.4 in /usr/local/lib/python3.10/dist-packages (from pandas>=0.24->htrc-feature-reader) (1.26.4)\n",
            "Requirement already satisfied: python-dateutil>=2.8.2 in /usr/local/lib/python3.10/dist-packages (from pandas>=0.24->htrc-feature-reader) (2.8.2)\n",
            "Requirement already satisfied: pytz>=2020.1 in /usr/local/lib/python3.10/dist-packages (from pandas>=0.24->htrc-feature-reader) (2024.2)\n",
            "Requirement already satisfied: tzdata>=2022.1 in /usr/local/lib/python3.10/dist-packages (from pandas>=0.24->htrc-feature-reader) (2024.1)\n",
            "Requirement already satisfied: charset-normalizer<4,>=2 in /usr/local/lib/python3.10/dist-packages (from requests->htrc-feature-reader) (3.3.2)\n",
            "Requirement already satisfied: idna<4,>=2.5 in /usr/local/lib/python3.10/dist-packages (from requests->htrc-feature-reader) (3.8)\n",
            "Requirement already satisfied: urllib3<3,>=1.21.1 in /usr/local/lib/python3.10/dist-packages (from requests->htrc-feature-reader) (2.0.7)\n",
            "Requirement already satisfied: certifi>=2017.4.17 in /usr/local/lib/python3.10/dist-packages (from requests->htrc-feature-reader) (2024.8.30)\n",
            "Downloading pymarc-5.2.2-py3-none-any.whl (158 kB)\n",
            "\u001b[2K   \u001b[90m━━━━━━━━━━━━━━━━━━━━━━━━━━━━━━━━━━━━━━━━\u001b[0m \u001b[32m158.8/158.8 kB\u001b[0m \u001b[31m7.7 MB/s\u001b[0m eta \u001b[36m0:00:00\u001b[0m\n",
            "\u001b[?25hDownloading python_rapidjson-1.20-cp310-cp310-manylinux_2_17_x86_64.manylinux2014_x86_64.whl (1.7 MB)\n",
            "\u001b[2K   \u001b[90m━━━━━━━━━━━━━━━━━━━━━━━━━━━━━━━━━━━━━━━━\u001b[0m \u001b[32m1.7/1.7 MB\u001b[0m \u001b[31m44.6 MB/s\u001b[0m eta \u001b[36m0:00:00\u001b[0m\n",
            "\u001b[?25hBuilding wheels for collected packages: htrc-feature-reader\n",
            "  Building wheel for htrc-feature-reader (setup.py) ... \u001b[?25l\u001b[?25hdone\n",
            "  Created wheel for htrc-feature-reader: filename=htrc_feature_reader-2.0.7-py3-none-any.whl size=40405 sha256=135e388ef0bccca22a6b21ab1d6a7baec10b7a0af62c24682bf511d37723dfbd\n",
            "  Stored in directory: /root/.cache/pip/wheels/b3/f1/1f/5c294023ab216db36f2d0106839e71b85612d467226e0a01ee\n",
            "Successfully built htrc-feature-reader\n",
            "Installing collected packages: python-rapidjson, pymarc, htrc-feature-reader\n",
            "Successfully installed htrc-feature-reader-2.0.7 pymarc-5.2.2 python-rapidjson-1.20\n"
          ]
        }
      ]
    },
    {
      "cell_type": "code",
      "source": [
        "from htrc_features import Volume\n",
        "\n",
        "# titles=[]\n",
        "# missing_ids=[]\n",
        "# for htid in id_list:\n",
        "#   try:\n",
        "#     vol = Volume(htid)\n",
        "#     titles.append(vol.title)\n",
        "#   except:\n",
        "#     missing_ids.append(htid)"
      ],
      "metadata": {
        "id": "W_rKak9S2xhK"
      },
      "execution_count": null,
      "outputs": []
    },
    {
      "cell_type": "code",
      "source": [
        "missing_ids"
      ],
      "metadata": {
        "colab": {
          "base_uri": "https://localhost:8080/"
        },
        "id": "Td3ij6fH4TrR",
        "outputId": "4eb770b1-d5a6-4d0b-cec9-8eb4c8463c3b"
      },
      "execution_count": null,
      "outputs": [
        {
          "output_type": "execute_result",
          "data": {
            "text/plain": [
              "['iau.31858045069667',\n",
              " 'hvd.hnqnwb',\n",
              " 'hvd.32044084631233',\n",
              " 'hvd.hw3drs',\n",
              " 'coo.31924014602712',\n",
              " 'uc1.b3924305',\n",
              " 'ien.35556031198310',\n",
              " 'uc1.b3872973',\n",
              " 'uga1.32108024964952',\n",
              " 'osu.32435021329883']"
            ]
          },
          "metadata": {},
          "execution_count": 33
        }
      ]
    },
    {
      "cell_type": "code",
      "source": [
        "missing_ids= ['iau.31858045069667',\n",
        " 'hvd.hnqnwb',\n",
        " 'hvd.32044084631233',\n",
        " 'hvd.hw3drs',\n",
        " 'coo.31924014602712',\n",
        " 'uc1.b3924305',\n",
        " 'ien.35556031198310',\n",
        " 'uc1.b3872973',\n",
        " 'uga1.32108024964952',\n",
        " 'osu.32435021329883']"
      ],
      "metadata": {
        "id": "Qmbz13jZS07C"
      },
      "execution_count": null,
      "outputs": []
    },
    {
      "cell_type": "code",
      "source": [
        "extraction_ids = set(id_list)- set(missing_ids)\n",
        "len(extraction_ids)"
      ],
      "metadata": {
        "colab": {
          "base_uri": "https://localhost:8080/"
        },
        "id": "he3s4cnR5gbI",
        "outputId": "0930de69-d792-4374-bde6-978bc628396d"
      },
      "execution_count": null,
      "outputs": [
        {
          "output_type": "execute_result",
          "data": {
            "text/plain": [
              "597"
            ]
          },
          "metadata": {},
          "execution_count": 45
        }
      ]
    },
    {
      "cell_type": "code",
      "source": [
        "extraction_ids= list(extraction_ids)"
      ],
      "metadata": {
        "id": "6osAboevEQ_6"
      },
      "execution_count": null,
      "outputs": []
    },
    {
      "cell_type": "code",
      "source": [
        "extraction_ids"
      ],
      "metadata": {
        "colab": {
          "base_uri": "https://localhost:8080/"
        },
        "id": "Bqtzt0d6JdwA",
        "outputId": "3ab1268b-6b04-41de-f52c-ee35aa1fe17b"
      },
      "execution_count": null,
      "outputs": [
        {
          "output_type": "execute_result",
          "data": {
            "text/plain": [
              "['mdp.39015034900129',\n",
              " 'uc1.31822002403749',\n",
              " 'uc2.ark+=13960=t5m904803',\n",
              " 'mdp.39076005385427',\n",
              " 'loc.ark+=13960=t5cc1gw63',\n",
              " 'mdp.49015000983453',\n",
              " 'mdp.39015051324393',\n",
              " 'nnc2.ark+=13960=t56d7dx4t',\n",
              " 'uc2.ark+=13960=t5x63pc6v',\n",
              " 'loc.ark+=13960=t1gj0ct7m',\n",
              " 'hvd.hnfe52',\n",
              " 'uc1.$b237187',\n",
              " 'mdp.39015058727390',\n",
              " 'mdp.39015002243486',\n",
              " 'mdp.39076001549026',\n",
              " 'uc1.b3710884',\n",
              " 'nnc1.cr61147010',\n",
              " 'umn.31951000888300t',\n",
              " 'uc1.b4355110',\n",
              " 'mdp.39015046456201',\n",
              " 'mdp.39015062240166',\n",
              " 'mdp.39015046378918',\n",
              " 'coo1.ark+=13960=t0tq6h22t',\n",
              " 'mdp.39076001031199',\n",
              " 'mdp.39015052834705',\n",
              " 'uiug.30112052692305',\n",
              " 'mdp.39076006235688',\n",
              " 'inu.30000045131764',\n",
              " 'mdp.39015019573495',\n",
              " 'mdp.39015006846037',\n",
              " 'nnc1.cu04810163',\n",
              " 'uc2.ark+=13960=fk22b8vh0p',\n",
              " 'uc2.ark+=13960=fk8cf9jq1k',\n",
              " 'mdp.39015002388760',\n",
              " 'uiuo.ark+=13960=t7qn6s33c',\n",
              " 'mdp.39015021278430',\n",
              " 'uc1.32106009785699',\n",
              " 'wu.89001199025',\n",
              " 'uc1.$b243695',\n",
              " 'osu.32435066152679',\n",
              " 'uc1.$b727631',\n",
              " 'uc1.$b251992',\n",
              " 'uc1.b3189834',\n",
              " 'uc1.b3346167',\n",
              " 'uc1.b4464380',\n",
              " 'mdp.39015019749244',\n",
              " 'nyp.33433076038847',\n",
              " 'mdp.39015013407500',\n",
              " 'mdp.49015000993742',\n",
              " 'wu.89094686110',\n",
              " 'uc2.ark+=13960=t46q1vv6t',\n",
              " 'mdp.39015038109362',\n",
              " 'mdp.39015013510212',\n",
              " 'nnc2.ark+=13960=t6g176k1c',\n",
              " 'uc1.32106009966307',\n",
              " 'uc1.b3710789',\n",
              " 'uc2.ark+=13960=t6b27s285',\n",
              " 'uc2.ark+=13960=t01z42s2c',\n",
              " 'hvd.32044032120321',\n",
              " 'wu.89006827034',\n",
              " 'uc1.$b60394',\n",
              " 'nyp.33433081852992',\n",
              " 'njp.32101074942507',\n",
              " 'inu.30000095651000',\n",
              " 'uc2.ark+=13960=t16m34x6x',\n",
              " 'mdp.39015069746777',\n",
              " 'coo.31924059255756',\n",
              " 'inu.30000055841815',\n",
              " 'nnc1.1000018538',\n",
              " 'uc1.$b318317',\n",
              " 'mdp.39015004954346',\n",
              " 'coo1.ark+=13960=t4qj80v9h',\n",
              " 'mdp.39015015191888',\n",
              " 'mdp.49015000077314',\n",
              " 'uc1.$b600004',\n",
              " 'uc1.32106010583091',\n",
              " 'coo.31924003557356',\n",
              " 'mdp.39015030699642',\n",
              " 'uc1.b3143008',\n",
              " 'uc1.b3444141',\n",
              " 'uc1.$b243564',\n",
              " 'uc1.b4112475',\n",
              " 'mdp.39015005665032',\n",
              " 'mdp.39015003513408',\n",
              " 'hvd.32044026013995',\n",
              " 'uc2.ark+=13960=t3kw59b2x',\n",
              " 'uc1.$b63994',\n",
              " 'uc1.b3728085',\n",
              " 'uc2.ark+=13960=t5j964t2w',\n",
              " 'mdp.39015062812998',\n",
              " 'nyp.33433074927645',\n",
              " 'uc1.b4929953',\n",
              " 'inu.30000052999335',\n",
              " 'uc1.$b86641',\n",
              " 'pst.000049935752',\n",
              " 'mdp.39015071555471',\n",
              " 'coo1.ark+=13960=t1gj0px7p',\n",
              " 'mdp.39015000540578',\n",
              " 'uc1.b4445390',\n",
              " 'uva.x001533396',\n",
              " 'uc1.c3480853',\n",
              " 'coo1.ark+=13960=t2c82w05f',\n",
              " 'inu.30000085374894',\n",
              " 'uc1.32106000017829',\n",
              " 'mdp.39015026616097',\n",
              " 'mdp.39015013286946',\n",
              " 'uc1.b3923434',\n",
              " 'uc1.b4355423',\n",
              " 'uc1.b3121959',\n",
              " 'inu.32000004220119',\n",
              " 'iau.31858001000243',\n",
              " 'coo1.ark+=13960=t4jm2vd30',\n",
              " 'coo1.ark+=13960=t2r50605s',\n",
              " 'nnc2.ark+=13960=t42r52p6p',\n",
              " 'mdp.39015026436330',\n",
              " 'uc1.$b105921',\n",
              " 'mdp.49015002015544',\n",
              " 'mdp.39015001659039',\n",
              " 'uiug.30112114046227',\n",
              " 'uc2.ark+=13960=t6c24r785',\n",
              " 'coo.31924003560871',\n",
              " 'pst.000012674534',\n",
              " 'mdp.39015008716345',\n",
              " 'coo1.ark+=13960=t7jq1jm00',\n",
              " 'mdp.39015011257378',\n",
              " 'mdp.39015006008299',\n",
              " 'uc2.ark+=13960=t7dr2qn5d',\n",
              " 'uc2.ark+=13960=t79s1sv30',\n",
              " 'mdp.39015054076024',\n",
              " 'mdp.39015021942530',\n",
              " 'chi.088038118',\n",
              " 'mdp.39015022069283',\n",
              " 'umn.319510019569066',\n",
              " 'mdp.39015047617744',\n",
              " 'mdp.39015011011007',\n",
              " 'mdp.39015005523793',\n",
              " 'uva.x000093270',\n",
              " 'mdp.39015072819769',\n",
              " 'uc1.$b105795',\n",
              " 'mdp.39015073301973',\n",
              " 'coo.31924013800077',\n",
              " 'nyp.33433075966626',\n",
              " 'uc2.ark+=13960=t6n012t09',\n",
              " 'coo1.ark+=13960=t98632z48',\n",
              " 'mdp.39015022397809',\n",
              " 'uiug.30112049882100',\n",
              " 'mdp.39015011560003',\n",
              " 'hvd.32044051139590',\n",
              " 'nyp.33433074919949',\n",
              " 'mdp.39015063963246',\n",
              " 'mdp.39015026974066',\n",
              " 'uc1.b3460299',\n",
              " 'mdp.39015001984965',\n",
              " 'uc1.32106006147778',\n",
              " 'mdp.39015000674443',\n",
              " 'uc2.ark+=13960=t13n23b6x',\n",
              " 'mdp.39015013302651',\n",
              " 'pst.000033329949',\n",
              " 'uc1.$b312375',\n",
              " 'inu.39000007624708',\n",
              " 'nyp.33433090330170',\n",
              " 'mdp.39015063955960',\n",
              " 'mdp.39015013437598',\n",
              " 'hvd.32044102972502',\n",
              " 'uc1.b4091147',\n",
              " 'uc1.$b111291',\n",
              " 'mdp.39076005855460',\n",
              " 'nyp.33433067293880',\n",
              " 'uc1.31210000349918',\n",
              " 'mdp.39015000302433',\n",
              " 'mdp.39015032968268',\n",
              " 'njp.32101073360958',\n",
              " 'uiug.30112047570954',\n",
              " 'mdp.39015008504956',\n",
              " 'mdp.39015059429731',\n",
              " 'mdp.39015002661174',\n",
              " 'chi.39387805',\n",
              " 'mdp.39015004925072',\n",
              " 'uc1.32106008517846',\n",
              " 'uc1.$b85950',\n",
              " 'uc2.ark+=13960=t26971n59',\n",
              " 'mdp.39015002865098',\n",
              " 'uc1.b3639895',\n",
              " 'hvd.32044086951621',\n",
              " 'mdp.39015021942480',\n",
              " 'mdp.39015041356901',\n",
              " 'uc2.ark+=13960=t03x84h4c',\n",
              " 'pst.000007265099',\n",
              " 'mdp.39076005945360',\n",
              " 'nnc1.cu09365290',\n",
              " 'mdp.39015010370453',\n",
              " 'wu.89100334630',\n",
              " 'mdp.39015002345398',\n",
              " 'mdp.39015014573664',\n",
              " 'mdp.39015025045322',\n",
              " 'mdp.39015032500434',\n",
              " 'mdp.39015025961270',\n",
              " 'uc1.$b15215',\n",
              " 'uc1.$b104006',\n",
              " 'mdp.39015007040481',\n",
              " 'mdp.39015013962207',\n",
              " 'uc1.$b395706',\n",
              " 'uc2.ark+=13960=t2s46m379',\n",
              " 'mdp.39015000690993',\n",
              " 'coo.31924011969544',\n",
              " 'inu.30000077060451',\n",
              " 'osu.32435066354028',\n",
              " 'mdp.39015030602810',\n",
              " 'njp.32101075987139',\n",
              " 'mdp.39015063945649',\n",
              " 'umn.31951000785572i',\n",
              " 'mdp.39015030970621',\n",
              " 'osu.32435014849087',\n",
              " 'umn.319510008312187',\n",
              " 'mdp.49015000435173',\n",
              " 'mdp.39015030699808',\n",
              " 'umn.31951p00451979d',\n",
              " 'mdp.39015014862232',\n",
              " 'uc1.$b102695',\n",
              " 'emu.10002361941',\n",
              " 'mdp.39015024894282',\n",
              " 'mdp.39015001644544',\n",
              " 'uc1.$b242787',\n",
              " 'njp.32101076318102',\n",
              " 'coo.31924003554841',\n",
              " 'mdp.39015043233173',\n",
              " 'uc1.b4526832',\n",
              " 'mdp.39076006118264',\n",
              " 'uc2.ark+=13960=t6n01c29h',\n",
              " 'mdp.39015030743572',\n",
              " 'mdp.39015071648831',\n",
              " 'uc1.$b104462',\n",
              " 'mdp.39015004356674',\n",
              " 'uc1.$b301899',\n",
              " 'uc1.$b56342',\n",
              " 'uc1.b3134838',\n",
              " 'uc2.ark+=13960=t7tm76q79',\n",
              " 'mdp.39015002397472',\n",
              " 'umn.31951p00671751h',\n",
              " 'uc1.b4358736',\n",
              " 'uc2.ark+=13960=t52f7m087',\n",
              " 'loc.ark+=13960=t6348xr76',\n",
              " 'nyp.33433034410963',\n",
              " 'uc1.b5240370',\n",
              " 'mdp.39015008390315',\n",
              " 'uc2.ark+=13960=t3tt4p68p',\n",
              " 'mdp.39015039630796',\n",
              " 'mdp.39015002351552',\n",
              " 'nyp.33433081734414',\n",
              " 'mdp.39015032354972',\n",
              " 'nyp.33433076082019',\n",
              " 'uc1.b4450980',\n",
              " 'mdp.39015012298678',\n",
              " 'nyp.33433081587580',\n",
              " 'mdp.39015042099278',\n",
              " 'mdp.39015035323925',\n",
              " 'uc1.$b63289',\n",
              " 'hvd.hn1rsn',\n",
              " 'uva.x001325713',\n",
              " 'mdp.39015019199168',\n",
              " 'mdp.39076005885780',\n",
              " 'mdp.39015023141685',\n",
              " 'mdp.39015060795153',\n",
              " 'uc1.$b115481',\n",
              " 'mdp.39076006238690',\n",
              " 'mdp.39015031307526',\n",
              " 'mdp.39015001579047',\n",
              " 'inu.30000029491945',\n",
              " 'mdp.39015016454335',\n",
              " 'mdp.39015000278088',\n",
              " 'nc01.ark+=13960=t7hq4034d',\n",
              " 'hvd.32044038394532',\n",
              " 'pst.000061209947',\n",
              " 'uc2.ark+=13960=t89g5kb8w',\n",
              " 'uc1.$b282111',\n",
              " 'mdp.39076002946627',\n",
              " 'loc.ark+=13960=t47p9gx27',\n",
              " 'mdp.39015014606456',\n",
              " 'mdp.39015061469535',\n",
              " 'uc1.$b312438',\n",
              " 'uc2.ark+=13960=t7cr5q352',\n",
              " 'uc2.ark+=13960=t6f18vs3z',\n",
              " 'mdp.39076002365158',\n",
              " 'mdp.39015004143627',\n",
              " 'uva.x002251868',\n",
              " 'coo.31924013872720',\n",
              " 'mdp.39015042169469',\n",
              " 'uc2.ark+=13960=t2k64c74t',\n",
              " 'mdp.39015031598389',\n",
              " 'wu.89096342647',\n",
              " 'inu.30000004325878',\n",
              " 'uc1.b4320473',\n",
              " 'gri.ark+=13960=t5s82p815',\n",
              " 'uc1.32106009863165',\n",
              " 'uc2.ark+=13960=t3ws8jc3n',\n",
              " 'hvd.32044097038749',\n",
              " 'mdp.39015021995231',\n",
              " 'mdp.39015030981677',\n",
              " 'mdp.39015016886643',\n",
              " 'mdp.39015000693922',\n",
              " 'uva.x002670825',\n",
              " 'uc1.b3376625',\n",
              " 'inu.30000050836554',\n",
              " 'mdp.39015040844386',\n",
              " 'wu.89099752115',\n",
              " 'mdp.39015011043877',\n",
              " 'mdp.49015003094308',\n",
              " 'mdp.39015081244991',\n",
              " 'mdp.39015019187676',\n",
              " 'osu.32435052803061',\n",
              " 'mdp.39015013517480',\n",
              " 'pst.000022698933',\n",
              " 'uc1.$b72950',\n",
              " 'loc.ark+=13960=t5x63k57d',\n",
              " 'hvd.32044097049910',\n",
              " 'hvd.32044004784419',\n",
              " 'mdp.39015012430362',\n",
              " 'mdp.39015013008225',\n",
              " 'njp.32101068938289',\n",
              " 'mdp.39015010224940',\n",
              " 'mdp.49015002534593',\n",
              " 'mdp.39015046884725',\n",
              " 'mdp.39015015210068',\n",
              " 'uc2.ark+=13960=t3hx17h31',\n",
              " 'nyp.33433076087786',\n",
              " 'inu.39000001302913',\n",
              " 'uc1.b3835558',\n",
              " 'coo1.ark+=13960=t3zs39g0c',\n",
              " 'uc1.b3346129',\n",
              " 'uc1.$b534058',\n",
              " 'mdp.39076002271778',\n",
              " 'mdp.39015024855309',\n",
              " 'coo1.ark+=13960=t79s2b879',\n",
              " 'mdp.39015015452579',\n",
              " 'mdp.39015056102596',\n",
              " 'pst.000024408202',\n",
              " 'mdp.49015002023795',\n",
              " 'mdp.39015008817374',\n",
              " 'uc1.$b105348',\n",
              " 'inu.32000000648032',\n",
              " 'hvd.32044052758430',\n",
              " 'coo1.ark+=13960=t47p9j653',\n",
              " 'inu.30000120967314',\n",
              " 'mdp.39015043786105',\n",
              " 'coo1.ark+=13960=t9f487d4x',\n",
              " 'coo1.ark+=13960=t64467b16',\n",
              " 'mdp.39015010923012',\n",
              " 'mdp.39015002725656',\n",
              " 'uc2.ark+=13960=t3125wn18',\n",
              " 'mdp.39076002091788',\n",
              " 'wu.89011024395',\n",
              " 'uc2.ark+=13960=t9j38s216',\n",
              " 'wu.89094584893',\n",
              " 'uc1.b4511832',\n",
              " 'uc1.31822009743576',\n",
              " 'mdp.39015029146803',\n",
              " 'mdp.39015026980618',\n",
              " 'mdp.39015031010781',\n",
              " 'uc2.ark+=13960=t9668mk66',\n",
              " 'mdp.39015060792754',\n",
              " 'mdp.39015030724721',\n",
              " 'mdp.39015000298813',\n",
              " 'mdp.39015002313503',\n",
              " 'mdp.39015062699031',\n",
              " 'uc2.ark+=13960=t70v8ck30',\n",
              " 'hvd.32044020430062',\n",
              " 'mdp.39015077669524',\n",
              " 'mdp.39015066075543',\n",
              " 'mdp.39015063947637',\n",
              " 'uc1.$b104181',\n",
              " 'uc2.ark+=13960=t0zp3w43h',\n",
              " 'uc1.b4421424',\n",
              " 'uiuo.ark+=13960=t6xw5180p',\n",
              " 'coo.31924013917095',\n",
              " 'mdp.39015003982827',\n",
              " 'mdp.39015011345330',\n",
              " 'mdp.39015030728557',\n",
              " 'mdp.39015000540891',\n",
              " 'mdp.39015001575656',\n",
              " 'uc2.ark+=13960=t9p26xq9c',\n",
              " 'mdp.39015066677249',\n",
              " 'nyp.33433074851936',\n",
              " 'uc1.$b36188',\n",
              " 'inu.30000113531341',\n",
              " 'mdp.39015016441019',\n",
              " 'wu.89037587771',\n",
              " 'loc.ark+=13960=t3902jv3f',\n",
              " 'loc.ark+=13960=t2f775w81',\n",
              " 'mdp.39015031232757',\n",
              " 'uc2.ark+=13960=t2z31nv6d',\n",
              " 'mdp.39015007070058',\n",
              " 'uc1.b3543046',\n",
              " 'uc1.31822038205928',\n",
              " 'nyp.33433074930714',\n",
              " 'uc1.$b56514',\n",
              " 'mdp.39015006459831',\n",
              " 'mdp.39015045657254',\n",
              " 'mdp.39015004346949',\n",
              " 'mdp.39015077627878',\n",
              " 'coo.31924017523345',\n",
              " 'mdp.39015000545643',\n",
              " 'mdp.39015033992804',\n",
              " 'mdp.39015015507182',\n",
              " 'mdp.49015000732926',\n",
              " 'uc2.ark+=13960=t9p26r397',\n",
              " 'mdp.39015073446323',\n",
              " 'coo.31924013836907',\n",
              " 'uc1.$b703967',\n",
              " 'coo1.ark+=13960=t20c5j83p',\n",
              " 'mdp.39015048903655',\n",
              " 'mdp.39015034318710',\n",
              " 'hvd.hwpleq',\n",
              " 'uiug.30112118810305',\n",
              " 'mdp.39015047523603',\n",
              " 'coo.31924001797814',\n",
              " 'uc1.$b45794',\n",
              " 'mdp.39015062112514',\n",
              " 'mdp.39015021244846',\n",
              " 'mdp.39015026267594',\n",
              " 'mdp.39015002721721',\n",
              " 'uc1.$b20592',\n",
              " 'njp.32101067178937',\n",
              " 'mdp.39015021911733',\n",
              " 'uc1.$b56306',\n",
              " 'uc2.ark+=13960=t15m62f6n',\n",
              " 'osu.32435020202784',\n",
              " 'inu.39000003642282',\n",
              " 'uc1.b4381449',\n",
              " 'mdp.39015000148356',\n",
              " 'uc1.b4437895',\n",
              " 'uc1.b3810865',\n",
              " 'inu.30000006646032',\n",
              " 'uc1.$b236167',\n",
              " 'uc1.$b100807',\n",
              " 'mdp.39015024077201',\n",
              " 'mdp.39015065752993',\n",
              " 'mdp.39015020697424',\n",
              " 'uc1.b3710795',\n",
              " 'mdp.39015033964035',\n",
              " 'coo.31924003543877',\n",
              " 'mdp.39015009574826',\n",
              " 'uc2.ark+=13960=t5bc3xz0x',\n",
              " 'mdp.39015029237594',\n",
              " 'uc1.b4355146',\n",
              " 'uc1.$b106428',\n",
              " 'inu.39000009168670',\n",
              " 'uc2.ark+=13960=t3ws8jw8s',\n",
              " 'uc2.ark+=13960=t39024h9w',\n",
              " 'loc.ark+=13960=t6j10qn99',\n",
              " 'uc2.ark+=13960=t1td9pr9j',\n",
              " 'uc2.ark+=13960=fk3nv99f7f',\n",
              " 'mdp.39015040067806',\n",
              " 'uc1.$b312398',\n",
              " 'hvd.32044058243072',\n",
              " 'coo.31924050315138',\n",
              " 'uc1.b4463661',\n",
              " 'mdp.39015015205100',\n",
              " 'hvd.32044028905404',\n",
              " 'uc1.b4451287',\n",
              " 'mdp.39015003496737',\n",
              " 'uc1.$b269646',\n",
              " 'mdp.39015012117159',\n",
              " 'uva.x000540599',\n",
              " 'uc1.b3289714',\n",
              " 'mdp.39015015513966',\n",
              " 'uc2.ark+=13960=t22b8vm6r',\n",
              " 'uiug.30112119787601',\n",
              " 'loc.ark+=13960=t0vq44d0b',\n",
              " 'mdp.39015000572605',\n",
              " 'uc1.c3474185',\n",
              " 'uc1.b000301089',\n",
              " 'mdp.39015014190386',\n",
              " 'uc2.ark+=13960=t3805071m',\n",
              " 'mdp.39015008178652',\n",
              " 'uc1.b4098618',\n",
              " 'mdp.39015035899320',\n",
              " 'mdp.39015012458587',\n",
              " 'uc1.32106008230200',\n",
              " 'wu.89058443284',\n",
              " 'mdp.39015003684894',\n",
              " 'uc2.ark+=13960=t0sq8zn5q',\n",
              " 'mdp.39015036084419',\n",
              " 'uiug.30112004329725',\n",
              " 'mdp.39015034717010',\n",
              " 'mdp.39015029900688',\n",
              " 'mdp.49015000893496',\n",
              " 'inu.30000105822773',\n",
              " 'uc2.ark+=13960=t1qf91q47',\n",
              " 'wu.89086150232',\n",
              " 'wu.89077080828',\n",
              " 'mdp.39015005672269',\n",
              " 'mdp.39015078577874',\n",
              " 'mdp.39015004716604',\n",
              " 'uc1.$b605087',\n",
              " 'mdp.39015029412999',\n",
              " 'uiuo.ark+=13960=t66408j7j',\n",
              " 'uc2.ark+=13960=t7zk58f5q',\n",
              " 'mdp.39015063959400',\n",
              " 'umn.31951002126272f',\n",
              " 'uva.x000283481',\n",
              " 'uc1.a0000094250',\n",
              " 'inu.30000114426103',\n",
              " 'uc2.ark+=13960=t28911z65',\n",
              " 'uc1.$b242744',\n",
              " 'mdp.39015008299763',\n",
              " 'hvd.hnl31q',\n",
              " 'uiug.30112064614594',\n",
              " 'mdp.39015032334826',\n",
              " 'mdp.39015011506170',\n",
              " 'uc2.ark+=13960=t4nk3kq3p',\n",
              " 'mdp.39015059733389',\n",
              " 'uc1.32106015584854',\n",
              " 'hvd.hn3tus',\n",
              " 'njp.32101067645901',\n",
              " 'mdp.39015012963735',\n",
              " 'mdp.49015000769647',\n",
              " 'uc1.b4081153',\n",
              " 'mdp.39015040669601',\n",
              " 'uc1.b4168459',\n",
              " 'uc1.$b56441',\n",
              " 'uc1.b4358700',\n",
              " 'mdp.39015024076500',\n",
              " 'uc2.ark+=13960=t9959jk0f',\n",
              " 'osu.32435009010745',\n",
              " 'uiug.30112075972304',\n",
              " 'uc1.32106002117858',\n",
              " 'uc1.b4975928',\n",
              " 'uc2.ark+=13960=t4hm54d91',\n",
              " 'uc1.$b670688',\n",
              " 'mdp.39015011095281',\n",
              " 'hvd.hc28du',\n",
              " 'uc1.b3639376',\n",
              " 'uc1.$b787244',\n",
              " 'njp.32101074760438',\n",
              " 'coo.31924001323959',\n",
              " 'pst.000027328149',\n",
              " 'uc1.b3727129',\n",
              " 'uc1.b3778904',\n",
              " 'wu.89097347298',\n",
              " 'mdp.39015000520075',\n",
              " 'uc1.$b323629',\n",
              " 'mdp.39015029747709',\n",
              " 'pst.000027670989',\n",
              " 'msu.31293104381326',\n",
              " 'mdp.39015000611353',\n",
              " 'uc1.$b675385',\n",
              " 'mdp.39015063544459',\n",
              " 'mdp.39015033991525',\n",
              " 'pst.000014007422',\n",
              " 'mdp.39015047534873',\n",
              " 'mdp.39015002971862',\n",
              " 'mdp.39015063560687',\n",
              " 'uc1.b4451814',\n",
              " 'uc2.ark+=13960=t1ng4h02g',\n",
              " 'mdp.39015040635776',\n",
              " 'mdp.39015010849472',\n",
              " 'nyp.33433075818801',\n",
              " 'mdp.39015004765106',\n",
              " 'uc2.ark+=13960=t83j3pg80',\n",
              " 'uc2.ark+=13960=t6ww78j13',\n",
              " 'mdp.39015003343897',\n",
              " 'mdp.39015002168311',\n",
              " 'inu.30000011309345',\n",
              " 'mdp.49015000141508',\n",
              " 'coo.31924030248474',\n",
              " 'mdp.39015002731241',\n",
              " 'uc2.ark+=13960=t9t14wj10',\n",
              " 'mdp.39015011363309',\n",
              " 'uva.x000380915',\n",
              " 'uva.x004091595',\n",
              " 'pst.000066025740',\n",
              " 'uc1.$b103840',\n",
              " 'uc1.$b244956',\n",
              " 'loc.ark+=13960=t81j9wc5b',\n",
              " 'coo1.ark+=13960=t3fx7tp9v',\n",
              " 'uc1.31210000571263',\n",
              " 'mdp.39015030037330',\n",
              " 'uc2.ark+=13960=t9s17v80b',\n",
              " 'mdp.39015012829910',\n",
              " 'uc1.b3593032',\n",
              " 'uc2.ark+=13960=t8x923k22',\n",
              " 'uc2.ark+=13960=t5w66fk12',\n",
              " 'inu.30000111982462',\n",
              " 'mdp.39015004078674',\n",
              " 'uc2.ark+=13960=t21c1w684',\n",
              " 'uc2.ark+=13960=t11n8091g',\n",
              " 'uc1.$b799823',\n",
              " 'mdp.49015000320532',\n",
              " 'njp.32101066164730',\n",
              " 'mdp.39015005364040',\n",
              " 'wu.89058250812',\n",
              " 'uc1.b3932780',\n",
              " 'mdp.39015038650993',\n",
              " 'uc1.32106010992912',\n",
              " 'uc1.b4938181',\n",
              " 'mdp.39015002433129',\n",
              " 'pst.000046842596']"
            ]
          },
          "metadata": {},
          "execution_count": 57
        }
      ]
    },
    {
      "cell_type": "code",
      "source": [
        "def process_ids(id_list):\n",
        "    dfs = []\n",
        "    error_ids = []\n",
        "    c = 0\n",
        "\n",
        "    for id in id_list:\n",
        "        try:\n",
        "            vol = Volume(id)\n",
        "            d = vol.section_features()\n",
        "\n",
        "            df = pd.DataFrame(d)\n",
        "            all_pages = pd.DataFrame(index=range(1, df.index.max() + 1))\n",
        "            df_reindexed = all_pages.join(df).fillna(0).astype(int)\n",
        "\n",
        "            df_reindexed['ID'] = id\n",
        "            df_reindexed.reset_index(inplace=True)\n",
        "            df_reindexed.rename(columns={'index': 'Page'}, inplace=True)\n",
        "\n",
        "            dfs.append(df_reindexed)\n",
        "\n",
        "            c += 1\n",
        "            print(f\"Processed {c}: {id}\")\n",
        "\n",
        "        except Exception as e:\n",
        "            print(f\"Error processing ID {id}: {e}\")\n",
        "            error_ids.append(id)\n",
        "\n",
        "    if dfs:\n",
        "        final_df = pd.concat(dfs, ignore_index=True)\n",
        "        cols = ['ID'] + [col for col in final_df.columns if col != 'ID']\n",
        "        final_df = final_df[cols]\n",
        "    else:\n",
        "        final_df = pd.DataFrame()  # Return an empty DataFrame if no successful processing\n",
        "\n",
        "    return final_df, error_ids\n"
      ],
      "metadata": {
        "id": "Ad-gBxpgLVpO"
      },
      "execution_count": null,
      "outputs": []
    },
    {
      "cell_type": "code",
      "source": [
        "idsss = extraction_ids\n",
        "final_dataframe , wrong_ids = process_ids(idsss)\n"
      ],
      "metadata": {
        "id": "xTV8K84eAbt2",
        "colab": {
          "base_uri": "https://localhost:8080/",
          "height": 1000
        },
        "outputId": "cd5c52ee-0bc7-4f83-d00d-3de32d12ee11"
      },
      "execution_count": null,
      "outputs": [
        {
          "output_type": "stream",
          "name": "stdout",
          "text": [
            "Processed 1: mdp.39015034900129\n",
            "Processed 2: uc1.31822002403749\n",
            "Processed 3: uc2.ark+=13960=t5m904803\n",
            "Processed 4: mdp.39076005385427\n",
            "Processed 5: loc.ark+=13960=t5cc1gw63\n",
            "Processed 6: mdp.49015000983453\n",
            "Processed 7: mdp.39015051324393\n",
            "Processed 8: nnc2.ark+=13960=t56d7dx4t\n",
            "Processed 9: uc2.ark+=13960=t5x63pc6v\n",
            "Processed 10: loc.ark+=13960=t1gj0ct7m\n",
            "Processed 11: hvd.hnfe52\n",
            "Processed 12: uc1.$b237187\n",
            "Processed 13: mdp.39015058727390\n",
            "Processed 14: mdp.39015002243486\n",
            "Processed 15: mdp.39076001549026\n",
            "Processed 16: uc1.b3710884\n",
            "Processed 17: nnc1.cr61147010\n",
            "Processed 18: umn.31951000888300t\n",
            "Processed 19: uc1.b4355110\n",
            "Processed 20: mdp.39015046456201\n",
            "Processed 21: mdp.39015062240166\n",
            "Processed 22: mdp.39015046378918\n",
            "Processed 23: coo1.ark+=13960=t0tq6h22t\n",
            "Processed 24: mdp.39076001031199\n",
            "Processed 25: mdp.39015052834705\n",
            "Processed 26: uiug.30112052692305\n",
            "Processed 27: mdp.39076006235688\n",
            "Processed 28: inu.30000045131764\n",
            "Processed 29: mdp.39015019573495\n",
            "Processed 30: mdp.39015006846037\n",
            "Processed 31: nnc1.cu04810163\n",
            "Processed 32: uc2.ark+=13960=fk22b8vh0p\n",
            "Processed 33: uc2.ark+=13960=fk8cf9jq1k\n",
            "Processed 34: mdp.39015002388760\n",
            "Processed 35: uiuo.ark+=13960=t7qn6s33c\n",
            "Processed 36: mdp.39015021278430\n",
            "Processed 37: uc1.32106009785699\n",
            "Processed 38: wu.89001199025\n",
            "Processed 39: uc1.$b243695\n",
            "Processed 40: osu.32435066152679\n",
            "Processed 41: uc1.$b727631\n",
            "Processed 42: uc1.$b251992\n",
            "Processed 43: uc1.b3189834\n",
            "Processed 44: uc1.b3346167\n",
            "Processed 45: uc1.b4464380\n",
            "Processed 46: mdp.39015019749244\n",
            "Processed 47: nyp.33433076038847\n",
            "Processed 48: mdp.39015013407500\n",
            "Processed 49: mdp.49015000993742\n",
            "Processed 50: wu.89094686110\n",
            "Processed 51: uc2.ark+=13960=t46q1vv6t\n",
            "Processed 52: mdp.39015038109362\n",
            "Processed 53: mdp.39015013510212\n",
            "Processed 54: nnc2.ark+=13960=t6g176k1c\n",
            "Processed 55: uc1.32106009966307\n",
            "Processed 56: uc1.b3710789\n",
            "Processed 57: uc2.ark+=13960=t6b27s285\n",
            "Processed 58: uc2.ark+=13960=t01z42s2c\n",
            "Processed 59: hvd.32044032120321\n",
            "Processed 60: wu.89006827034\n",
            "Processed 61: uc1.$b60394\n",
            "Processed 62: nyp.33433081852992\n",
            "Processed 63: njp.32101074942507\n",
            "Processed 64: inu.30000095651000\n",
            "Processed 65: uc2.ark+=13960=t16m34x6x\n",
            "Processed 66: mdp.39015069746777\n",
            "Processed 67: coo.31924059255756\n",
            "Processed 68: inu.30000055841815\n",
            "Processed 69: nnc1.1000018538\n",
            "Processed 70: uc1.$b318317\n",
            "Processed 71: mdp.39015004954346\n",
            "Processed 72: coo1.ark+=13960=t4qj80v9h\n",
            "Processed 73: mdp.39015015191888\n",
            "Processed 74: mdp.49015000077314\n",
            "Processed 75: uc1.$b600004\n",
            "Processed 76: uc1.32106010583091\n",
            "Error processing ID coo.31924003557356: \"None of ['page', 'section'] are in the columns\"\n",
            "Processed 77: mdp.39015030699642\n",
            "Processed 78: uc1.b3143008\n",
            "Processed 79: uc1.b3444141\n",
            "Processed 80: uc1.$b243564\n",
            "Processed 81: uc1.b4112475\n",
            "Processed 82: mdp.39015005665032\n",
            "Processed 83: mdp.39015003513408\n",
            "Processed 84: hvd.32044026013995\n",
            "Processed 85: uc2.ark+=13960=t3kw59b2x\n",
            "Processed 86: uc1.$b63994\n",
            "Processed 87: uc1.b3728085\n",
            "Processed 88: uc2.ark+=13960=t5j964t2w\n",
            "Processed 89: mdp.39015062812998\n",
            "Processed 90: nyp.33433074927645\n",
            "Processed 91: uc1.b4929953\n",
            "Processed 92: inu.30000052999335\n",
            "Processed 93: uc1.$b86641\n",
            "Processed 94: pst.000049935752\n",
            "Processed 95: mdp.39015071555471\n",
            "Processed 96: coo1.ark+=13960=t1gj0px7p\n",
            "Processed 97: mdp.39015000540578\n",
            "Processed 98: uc1.b4445390\n",
            "Processed 99: uva.x001533396\n",
            "Processed 100: uc1.c3480853\n",
            "Processed 101: coo1.ark+=13960=t2c82w05f\n",
            "Processed 102: inu.30000085374894\n",
            "Processed 103: uc1.32106000017829\n",
            "Processed 104: mdp.39015026616097\n",
            "Processed 105: mdp.39015013286946\n",
            "Processed 106: uc1.b3923434\n",
            "Processed 107: uc1.b4355423\n",
            "Processed 108: uc1.b3121959\n",
            "Processed 109: inu.32000004220119\n",
            "Processed 110: iau.31858001000243\n",
            "Processed 111: coo1.ark+=13960=t4jm2vd30\n",
            "Processed 112: coo1.ark+=13960=t2r50605s\n",
            "Processed 113: nnc2.ark+=13960=t42r52p6p\n",
            "Processed 114: mdp.39015026436330\n",
            "Processed 115: uc1.$b105921\n",
            "Processed 116: mdp.49015002015544\n",
            "Processed 117: mdp.39015001659039\n",
            "Processed 118: uiug.30112114046227\n",
            "Processed 119: uc2.ark+=13960=t6c24r785\n",
            "Processed 120: coo.31924003560871\n",
            "Processed 121: pst.000012674534\n",
            "Processed 122: mdp.39015008716345\n",
            "Processed 123: coo1.ark+=13960=t7jq1jm00\n",
            "Processed 124: mdp.39015011257378\n",
            "Processed 125: mdp.39015006008299\n",
            "Processed 126: uc2.ark+=13960=t7dr2qn5d\n",
            "Processed 127: uc2.ark+=13960=t79s1sv30\n",
            "Processed 128: mdp.39015054076024\n",
            "Processed 129: mdp.39015021942530\n",
            "Processed 130: chi.088038118\n",
            "Processed 131: mdp.39015022069283\n",
            "Processed 132: umn.319510019569066\n",
            "Processed 133: mdp.39015047617744\n",
            "Processed 134: mdp.39015011011007\n",
            "Processed 135: mdp.39015005523793\n",
            "Processed 136: uva.x000093270\n",
            "Processed 137: mdp.39015072819769\n",
            "Processed 138: uc1.$b105795\n",
            "Processed 139: mdp.39015073301973\n",
            "Processed 140: coo.31924013800077\n",
            "Processed 141: nyp.33433075966626\n",
            "Processed 142: uc2.ark+=13960=t6n012t09\n",
            "Processed 143: coo1.ark+=13960=t98632z48\n",
            "Processed 144: mdp.39015022397809\n",
            "Processed 145: uiug.30112049882100\n",
            "Processed 146: mdp.39015011560003\n"
          ]
        },
        {
          "output_type": "error",
          "ename": "KeyboardInterrupt",
          "evalue": "",
          "traceback": [
            "\u001b[0;31m---------------------------------------------------------------------------\u001b[0m",
            "\u001b[0;31mFileNotFoundError\u001b[0m                         Traceback (most recent call last)",
            "\u001b[0;32m/usr/local/lib/python3.10/dist-packages/htrc_features/caching.py\u001b[0m in \u001b[0;36mopen\u001b[0;34m(self, id, fallback_kwargs, **kwargs)\u001b[0m\n\u001b[1;32m     72\u001b[0m             \u001b[0;32mtry\u001b[0m\u001b[0;34m:\u001b[0m\u001b[0;34m\u001b[0m\u001b[0;34m\u001b[0m\u001b[0m\n\u001b[0;32m---> 73\u001b[0;31m                 \u001b[0mfout\u001b[0m \u001b[0;34m=\u001b[0m \u001b[0msuper\u001b[0m\u001b[0;34m(\u001b[0m\u001b[0;34m)\u001b[0m\u001b[0;34m.\u001b[0m\u001b[0mopen\u001b[0m\u001b[0;34m(\u001b[0m\u001b[0mid\u001b[0m\u001b[0;34m,\u001b[0m \u001b[0;34m**\u001b[0m\u001b[0mkwargs\u001b[0m\u001b[0;34m)\u001b[0m\u001b[0;34m\u001b[0m\u001b[0;34m\u001b[0m\u001b[0m\n\u001b[0m\u001b[1;32m     74\u001b[0m                 \u001b[0mlogging\u001b[0m\u001b[0;34m.\u001b[0m\u001b[0mdebug\u001b[0m\u001b[0;34m(\u001b[0m\u001b[0;34m\"Successfully returning from cache\"\u001b[0m\u001b[0;34m)\u001b[0m\u001b[0;34m\u001b[0m\u001b[0;34m\u001b[0m\u001b[0m\n",
            "\u001b[0;32m/usr/local/lib/python3.10/dist-packages/htrc_features/resolvers.py\u001b[0m in \u001b[0;36mopen\u001b[0;34m(self, id, suffix, format, mode, skip_compression, compression, **kwargs)\u001b[0m\n\u001b[1;32m    120\u001b[0m \u001b[0;34m\u001b[0m\u001b[0m\n\u001b[0;32m--> 121\u001b[0;31m         uncompressed = self._open(id = id, suffix = suffix, mode = mode, format = format,\n\u001b[0m\u001b[1;32m    122\u001b[0m                                   compression=compression,  **kwargs)\n",
            "\u001b[0;32m/usr/local/lib/python3.10/dist-packages/htrc_features/resolvers.py\u001b[0m in \u001b[0;36m_open\u001b[0;34m(self, id, format, mode, compression, dir, suffix, **kwargs)\u001b[0m\n\u001b[1;32m    202\u001b[0m         \u001b[0mfilename\u001b[0m \u001b[0;34m=\u001b[0m \u001b[0mself\u001b[0m\u001b[0;34m.\u001b[0m\u001b[0mfname\u001b[0m\u001b[0;34m(\u001b[0m\u001b[0mid\u001b[0m\u001b[0;34m,\u001b[0m \u001b[0mformat\u001b[0m \u001b[0;34m=\u001b[0m \u001b[0mformat\u001b[0m\u001b[0;34m,\u001b[0m \u001b[0mcompression\u001b[0m \u001b[0;34m=\u001b[0m \u001b[0mcompression\u001b[0m\u001b[0;34m,\u001b[0m \u001b[0msuffix\u001b[0m \u001b[0;34m=\u001b[0m \u001b[0msuffix\u001b[0m\u001b[0;34m)\u001b[0m\u001b[0;34m\u001b[0m\u001b[0;34m\u001b[0m\u001b[0m\n\u001b[0;32m--> 203\u001b[0;31m         \u001b[0;32mreturn\u001b[0m \u001b[0mPath\u001b[0m\u001b[0;34m(\u001b[0m\u001b[0mdir\u001b[0m\u001b[0;34m,\u001b[0m \u001b[0mfilename\u001b[0m\u001b[0;34m)\u001b[0m\u001b[0;34m.\u001b[0m\u001b[0mopen\u001b[0m\u001b[0;34m(\u001b[0m\u001b[0mmode\u001b[0m \u001b[0;34m=\u001b[0m \u001b[0mmode\u001b[0m\u001b[0;34m)\u001b[0m\u001b[0;34m\u001b[0m\u001b[0;34m\u001b[0m\u001b[0m\n\u001b[0m\u001b[1;32m    204\u001b[0m \u001b[0;34m\u001b[0m\u001b[0m\n",
            "\u001b[0;32m/usr/lib/python3.10/pathlib.py\u001b[0m in \u001b[0;36mopen\u001b[0;34m(self, mode, buffering, encoding, errors, newline)\u001b[0m\n\u001b[1;32m   1118\u001b[0m             \u001b[0mencoding\u001b[0m \u001b[0;34m=\u001b[0m \u001b[0mio\u001b[0m\u001b[0;34m.\u001b[0m\u001b[0mtext_encoding\u001b[0m\u001b[0;34m(\u001b[0m\u001b[0mencoding\u001b[0m\u001b[0;34m)\u001b[0m\u001b[0;34m\u001b[0m\u001b[0;34m\u001b[0m\u001b[0m\n\u001b[0;32m-> 1119\u001b[0;31m         return self._accessor.open(self, mode, buffering, encoding, errors,\n\u001b[0m\u001b[1;32m   1120\u001b[0m                                    newline)\n",
            "\u001b[0;31mFileNotFoundError\u001b[0m: [Errno 2] No such file or directory: '/tmp/hvd.32044051139590.json.bz2'",
            "\nDuring handling of the above exception, another exception occurred:\n",
            "\u001b[0;31mKeyboardInterrupt\u001b[0m                         Traceback (most recent call last)",
            "\u001b[0;32m<ipython-input-49-a12c20c4463f>\u001b[0m in \u001b[0;36m<cell line: 2>\u001b[0;34m()\u001b[0m\n\u001b[1;32m      1\u001b[0m \u001b[0midsss\u001b[0m \u001b[0;34m=\u001b[0m \u001b[0mextraction_ids\u001b[0m\u001b[0;34m\u001b[0m\u001b[0;34m\u001b[0m\u001b[0m\n\u001b[0;32m----> 2\u001b[0;31m \u001b[0mfinal_dataframe\u001b[0m \u001b[0;34m,\u001b[0m \u001b[0mwrong_ids\u001b[0m \u001b[0;34m=\u001b[0m \u001b[0mprocess_ids\u001b[0m\u001b[0;34m(\u001b[0m\u001b[0midsss\u001b[0m\u001b[0;34m)\u001b[0m\u001b[0;34m\u001b[0m\u001b[0;34m\u001b[0m\u001b[0m\n\u001b[0m",
            "\u001b[0;32m<ipython-input-48-957f0710d950>\u001b[0m in \u001b[0;36mprocess_ids\u001b[0;34m(id_list)\u001b[0m\n\u001b[1;32m      6\u001b[0m     \u001b[0;32mfor\u001b[0m \u001b[0mid\u001b[0m \u001b[0;32min\u001b[0m \u001b[0mid_list\u001b[0m\u001b[0;34m:\u001b[0m\u001b[0;34m\u001b[0m\u001b[0;34m\u001b[0m\u001b[0m\n\u001b[1;32m      7\u001b[0m         \u001b[0;32mtry\u001b[0m\u001b[0;34m:\u001b[0m\u001b[0;34m\u001b[0m\u001b[0;34m\u001b[0m\u001b[0m\n\u001b[0;32m----> 8\u001b[0;31m             \u001b[0mvol\u001b[0m \u001b[0;34m=\u001b[0m \u001b[0mVolume\u001b[0m\u001b[0;34m(\u001b[0m\u001b[0mid\u001b[0m\u001b[0;34m)\u001b[0m\u001b[0;34m\u001b[0m\u001b[0;34m\u001b[0m\u001b[0m\n\u001b[0m\u001b[1;32m      9\u001b[0m             \u001b[0md\u001b[0m \u001b[0;34m=\u001b[0m \u001b[0mvol\u001b[0m\u001b[0;34m.\u001b[0m\u001b[0msection_features\u001b[0m\u001b[0;34m(\u001b[0m\u001b[0;34m)\u001b[0m\u001b[0;34m\u001b[0m\u001b[0;34m\u001b[0m\u001b[0m\n\u001b[1;32m     10\u001b[0m \u001b[0;34m\u001b[0m\u001b[0m\n",
            "\u001b[0;32m/usr/local/lib/python3.10/dist-packages/htrc_features/feature_reader.py\u001b[0m in \u001b[0;36m__init__\u001b[0;34m(self, id, format, id_resolver, default_page_section, path, compression, dir, file_handler, **kwargs)\u001b[0m\n\u001b[1;32m    462\u001b[0m                                 \"but requested {} files\".format(id_resolver.format, format))\n\u001b[1;32m    463\u001b[0m \u001b[0;34m\u001b[0m\u001b[0m\n\u001b[0;32m--> 464\u001b[0;31m         self.parser = retrieve_parser(id, format, id_resolver, compression, dir, \n\u001b[0m\u001b[1;32m    465\u001b[0m                                       file_handler=file_handler, **kwargs)\n\u001b[1;32m    466\u001b[0m \u001b[0;34m\u001b[0m\u001b[0m\n",
            "\u001b[0;32m/usr/local/lib/python3.10/dist-packages/htrc_features/feature_reader.py\u001b[0m in \u001b[0;36mretrieve_parser\u001b[0;34m(id, format, id_resolver, compression, dir, file_handler, **kwargs)\u001b[0m\n\u001b[1;32m    338\u001b[0m         \u001b[0;32mraise\u001b[0m \u001b[0mNotImplementedError\u001b[0m\u001b[0;34m(\u001b[0m\u001b[0;34m\"Must pass a format. Currently 'json' and 'parquet' are supported.\"\u001b[0m\u001b[0;34m)\u001b[0m\u001b[0;34m\u001b[0m\u001b[0;34m\u001b[0m\u001b[0m\n\u001b[1;32m    339\u001b[0m \u001b[0;34m\u001b[0m\u001b[0m\n\u001b[0;32m--> 340\u001b[0;31m     return Handler(id, id_resolver = id_resolver, dir = dir,\n\u001b[0m\u001b[1;32m    341\u001b[0m                    compression = compression, **kwargs)\n\u001b[1;32m    342\u001b[0m \u001b[0;34m\u001b[0m\u001b[0m\n",
            "\u001b[0;32m/usr/local/lib/python3.10/dist-packages/htrc_features/parsers.py\u001b[0m in \u001b[0;36m__init__\u001b[0;34m(self, id, id_resolver, compression, **kwargs)\u001b[0m\n\u001b[1;32m    188\u001b[0m \u001b[0;34m\u001b[0m\u001b[0m\n\u001b[1;32m    189\u001b[0m         \u001b[0;31m# parsing and reading are called here.\u001b[0m\u001b[0;34m\u001b[0m\u001b[0;34m\u001b[0m\u001b[0m\n\u001b[0;32m--> 190\u001b[0;31m         \u001b[0msuper\u001b[0m\u001b[0;34m(\u001b[0m\u001b[0;34m)\u001b[0m\u001b[0;34m.\u001b[0m\u001b[0m__init__\u001b[0m\u001b[0;34m(\u001b[0m\u001b[0mid\u001b[0m\u001b[0;34m,\u001b[0m \u001b[0mid_resolver\u001b[0m \u001b[0;34m=\u001b[0m \u001b[0mid_resolver\u001b[0m\u001b[0;34m,\u001b[0m \u001b[0mcompression\u001b[0m \u001b[0;34m=\u001b[0m \u001b[0mcompression\u001b[0m\u001b[0;34m,\u001b[0m \u001b[0;34m**\u001b[0m\u001b[0mkwargs\u001b[0m\u001b[0;34m)\u001b[0m\u001b[0;34m\u001b[0m\u001b[0;34m\u001b[0m\u001b[0m\n\u001b[0m\u001b[1;32m    191\u001b[0m \u001b[0;34m\u001b[0m\u001b[0m\n\u001b[1;32m    192\u001b[0m     \u001b[0;32mdef\u001b[0m \u001b[0mparse\u001b[0m\u001b[0;34m(\u001b[0m\u001b[0mself\u001b[0m\u001b[0;34m,\u001b[0m \u001b[0;34m**\u001b[0m\u001b[0mkwargs\u001b[0m\u001b[0;34m)\u001b[0m\u001b[0;34m:\u001b[0m\u001b[0;34m\u001b[0m\u001b[0;34m\u001b[0m\u001b[0m\n",
            "\u001b[0;32m/usr/local/lib/python3.10/dist-packages/htrc_features/parsers.py\u001b[0m in \u001b[0;36m__init__\u001b[0;34m(self, id, id_resolver, mode, **kwargs)\u001b[0m\n\u001b[1;32m     77\u001b[0m             \u001b[0;32mreturn\u001b[0m\u001b[0;34m\u001b[0m\u001b[0;34m\u001b[0m\u001b[0m\n\u001b[1;32m     78\u001b[0m \u001b[0;34m\u001b[0m\u001b[0m\n\u001b[0;32m---> 79\u001b[0;31m         \u001b[0mself\u001b[0m\u001b[0;34m.\u001b[0m\u001b[0mparse\u001b[0m\u001b[0;34m(\u001b[0m\u001b[0;34m**\u001b[0m\u001b[0mkwargs\u001b[0m\u001b[0;34m)\u001b[0m\u001b[0;34m\u001b[0m\u001b[0;34m\u001b[0m\u001b[0m\n\u001b[0m\u001b[1;32m     80\u001b[0m \u001b[0;34m\u001b[0m\u001b[0m\n\u001b[1;32m     81\u001b[0m     \u001b[0;32mdef\u001b[0m \u001b[0m__init_resolver\u001b[0m\u001b[0;34m(\u001b[0m\u001b[0mself\u001b[0m\u001b[0;34m,\u001b[0m \u001b[0mid_resolver\u001b[0m\u001b[0;34m,\u001b[0m \u001b[0mformat\u001b[0m\u001b[0;34m=\u001b[0m\u001b[0;32mNone\u001b[0m\u001b[0;34m,\u001b[0m \u001b[0;34m**\u001b[0m\u001b[0mkwargs\u001b[0m\u001b[0;34m)\u001b[0m\u001b[0;34m:\u001b[0m\u001b[0;34m\u001b[0m\u001b[0;34m\u001b[0m\u001b[0m\n",
            "\u001b[0;32m/usr/local/lib/python3.10/dist-packages/htrc_features/parsers.py\u001b[0m in \u001b[0;36mparse\u001b[0;34m(self, **kwargs)\u001b[0m\n\u001b[1;32m    192\u001b[0m     \u001b[0;32mdef\u001b[0m \u001b[0mparse\u001b[0m\u001b[0;34m(\u001b[0m\u001b[0mself\u001b[0m\u001b[0;34m,\u001b[0m \u001b[0;34m**\u001b[0m\u001b[0mkwargs\u001b[0m\u001b[0;34m)\u001b[0m\u001b[0;34m:\u001b[0m\u001b[0;34m\u001b[0m\u001b[0;34m\u001b[0m\u001b[0m\n\u001b[1;32m    193\u001b[0m \u001b[0;34m\u001b[0m\u001b[0m\n\u001b[0;32m--> 194\u001b[0;31m         \u001b[0mobj\u001b[0m \u001b[0;34m=\u001b[0m \u001b[0mself\u001b[0m\u001b[0;34m.\u001b[0m\u001b[0m_parse_json\u001b[0m\u001b[0;34m(\u001b[0m\u001b[0;34m)\u001b[0m\u001b[0;34m\u001b[0m\u001b[0;34m\u001b[0m\u001b[0m\n\u001b[0m\u001b[1;32m    195\u001b[0m \u001b[0;34m\u001b[0m\u001b[0m\n\u001b[1;32m    196\u001b[0m         \u001b[0mself\u001b[0m\u001b[0;34m.\u001b[0m\u001b[0m_schema\u001b[0m \u001b[0;34m=\u001b[0m \u001b[0mobj\u001b[0m\u001b[0;34m[\u001b[0m\u001b[0;34m'features'\u001b[0m\u001b[0;34m]\u001b[0m\u001b[0;34m[\u001b[0m\u001b[0;34m'schemaVersion'\u001b[0m\u001b[0;34m]\u001b[0m\u001b[0;34m\u001b[0m\u001b[0;34m\u001b[0m\u001b[0m\n",
            "\u001b[0;32m/usr/local/lib/python3.10/dist-packages/htrc_features/parsers.py\u001b[0m in \u001b[0;36m_parse_json\u001b[0;34m(self, compression, **kwargs)\u001b[0m\n\u001b[1;32m    289\u001b[0m             \u001b[0;32mif\u001b[0m \u001b[0;32mnot\u001b[0m \u001b[0mk\u001b[0m \u001b[0;32min\u001b[0m \u001b[0mkwargs\u001b[0m\u001b[0;34m:\u001b[0m\u001b[0;34m\u001b[0m\u001b[0;34m\u001b[0m\u001b[0m\n\u001b[1;32m    290\u001b[0m                 \u001b[0mkwargs\u001b[0m\u001b[0;34m[\u001b[0m\u001b[0mk\u001b[0m\u001b[0;34m]\u001b[0m \u001b[0;34m=\u001b[0m \u001b[0mself\u001b[0m\u001b[0;34m.\u001b[0m\u001b[0margs\u001b[0m\u001b[0;34m[\u001b[0m\u001b[0mk\u001b[0m\u001b[0;34m]\u001b[0m\u001b[0;34m\u001b[0m\u001b[0;34m\u001b[0m\u001b[0m\n\u001b[0;32m--> 291\u001b[0;31m         \u001b[0;32mwith\u001b[0m \u001b[0mresolver\u001b[0m\u001b[0;34m.\u001b[0m\u001b[0mopen\u001b[0m\u001b[0;34m(\u001b[0m\u001b[0mid\u001b[0m\u001b[0;34m,\u001b[0m \u001b[0;34m**\u001b[0m\u001b[0mkwargs\u001b[0m\u001b[0;34m)\u001b[0m \u001b[0;32mas\u001b[0m \u001b[0mfin\u001b[0m\u001b[0;34m:\u001b[0m\u001b[0;34m\u001b[0m\u001b[0;34m\u001b[0m\u001b[0m\n\u001b[0m\u001b[1;32m    292\u001b[0m             \u001b[0mrawjson\u001b[0m \u001b[0;34m=\u001b[0m \u001b[0mfin\u001b[0m\u001b[0;34m.\u001b[0m\u001b[0mread\u001b[0m\u001b[0;34m(\u001b[0m\u001b[0;34m)\u001b[0m\u001b[0;34m\u001b[0m\u001b[0;34m\u001b[0m\u001b[0m\n\u001b[1;32m    293\u001b[0m \u001b[0;34m\u001b[0m\u001b[0m\n",
            "\u001b[0;32m/usr/local/lib/python3.10/dist-packages/htrc_features/caching.py\u001b[0m in \u001b[0;36mopen\u001b[0;34m(self, id, fallback_kwargs, **kwargs)\u001b[0m\n\u001b[1;32m     82\u001b[0m                     \u001b[0;32mreturn\u001b[0m \u001b[0minput\u001b[0m\u001b[0;34m.\u001b[0m\u001b[0mparser\u001b[0m\u001b[0;34m.\u001b[0m\u001b[0mopen\u001b[0m\u001b[0;34m(\u001b[0m\u001b[0mid\u001b[0m\u001b[0;34m,\u001b[0m \u001b[0;34m**\u001b[0m\u001b[0mfallback_kwargs\u001b[0m\u001b[0;34m)\u001b[0m\u001b[0;34m\u001b[0m\u001b[0;34m\u001b[0m\u001b[0m\n\u001b[1;32m     83\u001b[0m                 \u001b[0;32melse\u001b[0m\u001b[0;34m:\u001b[0m\u001b[0;34m\u001b[0m\u001b[0;34m\u001b[0m\u001b[0m\n\u001b[0;32m---> 84\u001b[0;31m                     \u001b[0mcopy_between_resolvers\u001b[0m\u001b[0;34m(\u001b[0m\u001b[0mid\u001b[0m\u001b[0;34m,\u001b[0m \u001b[0mself\u001b[0m\u001b[0;34m.\u001b[0m\u001b[0mfallback\u001b[0m\u001b[0;34m,\u001b[0m \u001b[0mself\u001b[0m\u001b[0;34m.\u001b[0m\u001b[0msuper\u001b[0m\u001b[0;34m)\u001b[0m\u001b[0;34m\u001b[0m\u001b[0;34m\u001b[0m\u001b[0m\n\u001b[0m\u001b[1;32m     85\u001b[0m                     \u001b[0mfout\u001b[0m \u001b[0;34m=\u001b[0m \u001b[0msuper\u001b[0m\u001b[0;34m(\u001b[0m\u001b[0;34m)\u001b[0m\u001b[0;34m.\u001b[0m\u001b[0mopen\u001b[0m\u001b[0;34m(\u001b[0m\u001b[0mid\u001b[0m\u001b[0;34m,\u001b[0m \u001b[0;34m**\u001b[0m\u001b[0mkwargs\u001b[0m\u001b[0;34m)\u001b[0m\u001b[0;34m\u001b[0m\u001b[0;34m\u001b[0m\u001b[0m\n\u001b[1;32m     86\u001b[0m                     \u001b[0mlogging\u001b[0m\u001b[0;34m.\u001b[0m\u001b[0mdebug\u001b[0m\u001b[0;34m(\u001b[0m\u001b[0;34m\"Successfully returning from cache\"\u001b[0m\u001b[0;34m)\u001b[0m\u001b[0;34m\u001b[0m\u001b[0;34m\u001b[0m\u001b[0m\n",
            "\u001b[0;32m/usr/local/lib/python3.10/dist-packages/htrc_features/caching.py\u001b[0m in \u001b[0;36mcopy_between_resolvers\u001b[0;34m(id, resolver1, resolver2)\u001b[0m\n\u001b[1;32m      8\u001b[0m \u001b[0;32mdef\u001b[0m \u001b[0mcopy_between_resolvers\u001b[0m\u001b[0;34m(\u001b[0m\u001b[0mid\u001b[0m\u001b[0;34m,\u001b[0m \u001b[0mresolver1\u001b[0m\u001b[0;34m,\u001b[0m \u001b[0mresolver2\u001b[0m\u001b[0;34m)\u001b[0m\u001b[0;34m:\u001b[0m\u001b[0;34m\u001b[0m\u001b[0;34m\u001b[0m\u001b[0m\n\u001b[1;32m      9\u001b[0m \u001b[0;31m#    print (resolver1, \"--->\", resolver2)\u001b[0m\u001b[0;34m\u001b[0m\u001b[0;34m\u001b[0m\u001b[0m\n\u001b[0;32m---> 10\u001b[0;31m     \u001b[0minput\u001b[0m \u001b[0;34m=\u001b[0m \u001b[0mVolume\u001b[0m\u001b[0;34m(\u001b[0m\u001b[0mid\u001b[0m\u001b[0;34m,\u001b[0m \u001b[0mid_resolver\u001b[0m\u001b[0;34m=\u001b[0m\u001b[0mresolver1\u001b[0m\u001b[0;34m)\u001b[0m\u001b[0;34m\u001b[0m\u001b[0;34m\u001b[0m\u001b[0m\n\u001b[0m\u001b[1;32m     11\u001b[0m     \u001b[0moutput\u001b[0m \u001b[0;34m=\u001b[0m \u001b[0mVolume\u001b[0m\u001b[0;34m(\u001b[0m\u001b[0mid\u001b[0m\u001b[0;34m,\u001b[0m \u001b[0mid_resolver\u001b[0m\u001b[0;34m=\u001b[0m\u001b[0mresolver2\u001b[0m\u001b[0;34m,\u001b[0m \u001b[0mmode\u001b[0m \u001b[0;34m=\u001b[0m \u001b[0;34m'wb'\u001b[0m\u001b[0;34m)\u001b[0m\u001b[0;34m\u001b[0m\u001b[0;34m\u001b[0m\u001b[0m\n\u001b[1;32m     12\u001b[0m     \u001b[0moutput\u001b[0m\u001b[0;34m.\u001b[0m\u001b[0mwrite\u001b[0m\u001b[0;34m(\u001b[0m\u001b[0minput\u001b[0m\u001b[0;34m)\u001b[0m\u001b[0;34m\u001b[0m\u001b[0;34m\u001b[0m\u001b[0m\n",
            "\u001b[0;32m/usr/local/lib/python3.10/dist-packages/htrc_features/feature_reader.py\u001b[0m in \u001b[0;36m__init__\u001b[0;34m(self, id, format, id_resolver, default_page_section, path, compression, dir, file_handler, **kwargs)\u001b[0m\n\u001b[1;32m    462\u001b[0m                                 \"but requested {} files\".format(id_resolver.format, format))\n\u001b[1;32m    463\u001b[0m \u001b[0;34m\u001b[0m\u001b[0m\n\u001b[0;32m--> 464\u001b[0;31m         self.parser = retrieve_parser(id, format, id_resolver, compression, dir, \n\u001b[0m\u001b[1;32m    465\u001b[0m                                       file_handler=file_handler, **kwargs)\n\u001b[1;32m    466\u001b[0m \u001b[0;34m\u001b[0m\u001b[0m\n",
            "\u001b[0;32m/usr/local/lib/python3.10/dist-packages/htrc_features/feature_reader.py\u001b[0m in \u001b[0;36mretrieve_parser\u001b[0;34m(id, format, id_resolver, compression, dir, file_handler, **kwargs)\u001b[0m\n\u001b[1;32m    338\u001b[0m         \u001b[0;32mraise\u001b[0m \u001b[0mNotImplementedError\u001b[0m\u001b[0;34m(\u001b[0m\u001b[0;34m\"Must pass a format. Currently 'json' and 'parquet' are supported.\"\u001b[0m\u001b[0;34m)\u001b[0m\u001b[0;34m\u001b[0m\u001b[0;34m\u001b[0m\u001b[0m\n\u001b[1;32m    339\u001b[0m \u001b[0;34m\u001b[0m\u001b[0m\n\u001b[0;32m--> 340\u001b[0;31m     return Handler(id, id_resolver = id_resolver, dir = dir,\n\u001b[0m\u001b[1;32m    341\u001b[0m                    compression = compression, **kwargs)\n\u001b[1;32m    342\u001b[0m \u001b[0;34m\u001b[0m\u001b[0m\n",
            "\u001b[0;32m/usr/local/lib/python3.10/dist-packages/htrc_features/parsers.py\u001b[0m in \u001b[0;36m__init__\u001b[0;34m(self, id, id_resolver, compression, **kwargs)\u001b[0m\n\u001b[1;32m    188\u001b[0m \u001b[0;34m\u001b[0m\u001b[0m\n\u001b[1;32m    189\u001b[0m         \u001b[0;31m# parsing and reading are called here.\u001b[0m\u001b[0;34m\u001b[0m\u001b[0;34m\u001b[0m\u001b[0m\n\u001b[0;32m--> 190\u001b[0;31m         \u001b[0msuper\u001b[0m\u001b[0;34m(\u001b[0m\u001b[0;34m)\u001b[0m\u001b[0;34m.\u001b[0m\u001b[0m__init__\u001b[0m\u001b[0;34m(\u001b[0m\u001b[0mid\u001b[0m\u001b[0;34m,\u001b[0m \u001b[0mid_resolver\u001b[0m \u001b[0;34m=\u001b[0m \u001b[0mid_resolver\u001b[0m\u001b[0;34m,\u001b[0m \u001b[0mcompression\u001b[0m \u001b[0;34m=\u001b[0m \u001b[0mcompression\u001b[0m\u001b[0;34m,\u001b[0m \u001b[0;34m**\u001b[0m\u001b[0mkwargs\u001b[0m\u001b[0;34m)\u001b[0m\u001b[0;34m\u001b[0m\u001b[0;34m\u001b[0m\u001b[0m\n\u001b[0m\u001b[1;32m    191\u001b[0m \u001b[0;34m\u001b[0m\u001b[0m\n\u001b[1;32m    192\u001b[0m     \u001b[0;32mdef\u001b[0m \u001b[0mparse\u001b[0m\u001b[0;34m(\u001b[0m\u001b[0mself\u001b[0m\u001b[0;34m,\u001b[0m \u001b[0;34m**\u001b[0m\u001b[0mkwargs\u001b[0m\u001b[0;34m)\u001b[0m\u001b[0;34m:\u001b[0m\u001b[0;34m\u001b[0m\u001b[0;34m\u001b[0m\u001b[0m\n",
            "\u001b[0;32m/usr/local/lib/python3.10/dist-packages/htrc_features/parsers.py\u001b[0m in \u001b[0;36m__init__\u001b[0;34m(self, id, id_resolver, mode, **kwargs)\u001b[0m\n\u001b[1;32m     77\u001b[0m             \u001b[0;32mreturn\u001b[0m\u001b[0;34m\u001b[0m\u001b[0;34m\u001b[0m\u001b[0m\n\u001b[1;32m     78\u001b[0m \u001b[0;34m\u001b[0m\u001b[0m\n\u001b[0;32m---> 79\u001b[0;31m         \u001b[0mself\u001b[0m\u001b[0;34m.\u001b[0m\u001b[0mparse\u001b[0m\u001b[0;34m(\u001b[0m\u001b[0;34m**\u001b[0m\u001b[0mkwargs\u001b[0m\u001b[0;34m)\u001b[0m\u001b[0;34m\u001b[0m\u001b[0;34m\u001b[0m\u001b[0m\n\u001b[0m\u001b[1;32m     80\u001b[0m \u001b[0;34m\u001b[0m\u001b[0m\n\u001b[1;32m     81\u001b[0m     \u001b[0;32mdef\u001b[0m \u001b[0m__init_resolver\u001b[0m\u001b[0;34m(\u001b[0m\u001b[0mself\u001b[0m\u001b[0;34m,\u001b[0m \u001b[0mid_resolver\u001b[0m\u001b[0;34m,\u001b[0m \u001b[0mformat\u001b[0m\u001b[0;34m=\u001b[0m\u001b[0;32mNone\u001b[0m\u001b[0;34m,\u001b[0m \u001b[0;34m**\u001b[0m\u001b[0mkwargs\u001b[0m\u001b[0;34m)\u001b[0m\u001b[0;34m:\u001b[0m\u001b[0;34m\u001b[0m\u001b[0;34m\u001b[0m\u001b[0m\n",
            "\u001b[0;32m/usr/local/lib/python3.10/dist-packages/htrc_features/parsers.py\u001b[0m in \u001b[0;36mparse\u001b[0;34m(self, **kwargs)\u001b[0m\n\u001b[1;32m    192\u001b[0m     \u001b[0;32mdef\u001b[0m \u001b[0mparse\u001b[0m\u001b[0;34m(\u001b[0m\u001b[0mself\u001b[0m\u001b[0;34m,\u001b[0m \u001b[0;34m**\u001b[0m\u001b[0mkwargs\u001b[0m\u001b[0;34m)\u001b[0m\u001b[0;34m:\u001b[0m\u001b[0;34m\u001b[0m\u001b[0;34m\u001b[0m\u001b[0m\n\u001b[1;32m    193\u001b[0m \u001b[0;34m\u001b[0m\u001b[0m\n\u001b[0;32m--> 194\u001b[0;31m         \u001b[0mobj\u001b[0m \u001b[0;34m=\u001b[0m \u001b[0mself\u001b[0m\u001b[0;34m.\u001b[0m\u001b[0m_parse_json\u001b[0m\u001b[0;34m(\u001b[0m\u001b[0;34m)\u001b[0m\u001b[0;34m\u001b[0m\u001b[0;34m\u001b[0m\u001b[0m\n\u001b[0m\u001b[1;32m    195\u001b[0m \u001b[0;34m\u001b[0m\u001b[0m\n\u001b[1;32m    196\u001b[0m         \u001b[0mself\u001b[0m\u001b[0;34m.\u001b[0m\u001b[0m_schema\u001b[0m \u001b[0;34m=\u001b[0m \u001b[0mobj\u001b[0m\u001b[0;34m[\u001b[0m\u001b[0;34m'features'\u001b[0m\u001b[0;34m]\u001b[0m\u001b[0;34m[\u001b[0m\u001b[0;34m'schemaVersion'\u001b[0m\u001b[0;34m]\u001b[0m\u001b[0;34m\u001b[0m\u001b[0;34m\u001b[0m\u001b[0m\n",
            "\u001b[0;32m/usr/local/lib/python3.10/dist-packages/htrc_features/parsers.py\u001b[0m in \u001b[0;36m_parse_json\u001b[0;34m(self, compression, **kwargs)\u001b[0m\n\u001b[1;32m    289\u001b[0m             \u001b[0;32mif\u001b[0m \u001b[0;32mnot\u001b[0m \u001b[0mk\u001b[0m \u001b[0;32min\u001b[0m \u001b[0mkwargs\u001b[0m\u001b[0;34m:\u001b[0m\u001b[0;34m\u001b[0m\u001b[0;34m\u001b[0m\u001b[0m\n\u001b[1;32m    290\u001b[0m                 \u001b[0mkwargs\u001b[0m\u001b[0;34m[\u001b[0m\u001b[0mk\u001b[0m\u001b[0;34m]\u001b[0m \u001b[0;34m=\u001b[0m \u001b[0mself\u001b[0m\u001b[0;34m.\u001b[0m\u001b[0margs\u001b[0m\u001b[0;34m[\u001b[0m\u001b[0mk\u001b[0m\u001b[0;34m]\u001b[0m\u001b[0;34m\u001b[0m\u001b[0;34m\u001b[0m\u001b[0m\n\u001b[0;32m--> 291\u001b[0;31m         \u001b[0;32mwith\u001b[0m \u001b[0mresolver\u001b[0m\u001b[0;34m.\u001b[0m\u001b[0mopen\u001b[0m\u001b[0;34m(\u001b[0m\u001b[0mid\u001b[0m\u001b[0;34m,\u001b[0m \u001b[0;34m**\u001b[0m\u001b[0mkwargs\u001b[0m\u001b[0;34m)\u001b[0m \u001b[0;32mas\u001b[0m \u001b[0mfin\u001b[0m\u001b[0;34m:\u001b[0m\u001b[0;34m\u001b[0m\u001b[0;34m\u001b[0m\u001b[0m\n\u001b[0m\u001b[1;32m    292\u001b[0m             \u001b[0mrawjson\u001b[0m \u001b[0;34m=\u001b[0m \u001b[0mfin\u001b[0m\u001b[0;34m.\u001b[0m\u001b[0mread\u001b[0m\u001b[0;34m(\u001b[0m\u001b[0;34m)\u001b[0m\u001b[0;34m\u001b[0m\u001b[0;34m\u001b[0m\u001b[0m\n\u001b[1;32m    293\u001b[0m \u001b[0;34m\u001b[0m\u001b[0m\n",
            "\u001b[0;32m/usr/local/lib/python3.10/dist-packages/htrc_features/resolvers.py\u001b[0m in \u001b[0;36mopen\u001b[0;34m(self, id, suffix, format, mode, skip_compression, compression, **kwargs)\u001b[0m\n\u001b[1;32m    119\u001b[0m             \u001b[0mskip_compression\u001b[0m \u001b[0;34m=\u001b[0m \u001b[0;32mTrue\u001b[0m\u001b[0;34m\u001b[0m\u001b[0;34m\u001b[0m\u001b[0m\n\u001b[1;32m    120\u001b[0m \u001b[0;34m\u001b[0m\u001b[0m\n\u001b[0;32m--> 121\u001b[0;31m         uncompressed = self._open(id = id, suffix = suffix, mode = mode, format = format,\n\u001b[0m\u001b[1;32m    122\u001b[0m                                   compression=compression,  **kwargs)\n\u001b[1;32m    123\u001b[0m \u001b[0;34m\u001b[0m\u001b[0m\n",
            "\u001b[0;32m/usr/local/lib/python3.10/dist-packages/htrc_features/resolvers.py\u001b[0m in \u001b[0;36m_open\u001b[0;34m(self, id, mode, compression, **kwargs)\u001b[0m\n\u001b[1;32m    180\u001b[0m \u001b[0;34m\u001b[0m\u001b[0m\n\u001b[1;32m    181\u001b[0m         \u001b[0;32mtry\u001b[0m\u001b[0;34m:\u001b[0m\u001b[0;34m\u001b[0m\u001b[0;34m\u001b[0m\u001b[0m\n\u001b[0;32m--> 182\u001b[0;31m             \u001b[0mbyt\u001b[0m \u001b[0;34m=\u001b[0m \u001b[0m_urlopen\u001b[0m\u001b[0;34m(\u001b[0m\u001b[0mpath_or_url\u001b[0m\u001b[0;34m)\u001b[0m\u001b[0;34m.\u001b[0m\u001b[0mread\u001b[0m\u001b[0;34m(\u001b[0m\u001b[0;34m)\u001b[0m\u001b[0;34m\u001b[0m\u001b[0;34m\u001b[0m\u001b[0m\n\u001b[0m\u001b[1;32m    183\u001b[0m             \u001b[0mreq\u001b[0m \u001b[0;34m=\u001b[0m \u001b[0mBytesIO\u001b[0m\u001b[0;34m(\u001b[0m\u001b[0mbyt\u001b[0m\u001b[0;34m)\u001b[0m\u001b[0;34m\u001b[0m\u001b[0;34m\u001b[0m\u001b[0m\n\u001b[1;32m    184\u001b[0m         \u001b[0;32mexcept\u001b[0m \u001b[0mHTTPError\u001b[0m\u001b[0;34m:\u001b[0m\u001b[0;34m\u001b[0m\u001b[0;34m\u001b[0m\u001b[0m\n",
            "\u001b[0;32m/usr/lib/python3.10/urllib/request.py\u001b[0m in \u001b[0;36murlopen\u001b[0;34m(url, data, timeout, cafile, capath, cadefault, context)\u001b[0m\n\u001b[1;32m    214\u001b[0m     \u001b[0;32melse\u001b[0m\u001b[0;34m:\u001b[0m\u001b[0;34m\u001b[0m\u001b[0;34m\u001b[0m\u001b[0m\n\u001b[1;32m    215\u001b[0m         \u001b[0mopener\u001b[0m \u001b[0;34m=\u001b[0m \u001b[0m_opener\u001b[0m\u001b[0;34m\u001b[0m\u001b[0;34m\u001b[0m\u001b[0m\n\u001b[0;32m--> 216\u001b[0;31m     \u001b[0;32mreturn\u001b[0m \u001b[0mopener\u001b[0m\u001b[0;34m.\u001b[0m\u001b[0mopen\u001b[0m\u001b[0;34m(\u001b[0m\u001b[0murl\u001b[0m\u001b[0;34m,\u001b[0m \u001b[0mdata\u001b[0m\u001b[0;34m,\u001b[0m \u001b[0mtimeout\u001b[0m\u001b[0;34m)\u001b[0m\u001b[0;34m\u001b[0m\u001b[0;34m\u001b[0m\u001b[0m\n\u001b[0m\u001b[1;32m    217\u001b[0m \u001b[0;34m\u001b[0m\u001b[0m\n\u001b[1;32m    218\u001b[0m \u001b[0;32mdef\u001b[0m \u001b[0minstall_opener\u001b[0m\u001b[0;34m(\u001b[0m\u001b[0mopener\u001b[0m\u001b[0;34m)\u001b[0m\u001b[0;34m:\u001b[0m\u001b[0;34m\u001b[0m\u001b[0;34m\u001b[0m\u001b[0m\n",
            "\u001b[0;32m/usr/lib/python3.10/urllib/request.py\u001b[0m in \u001b[0;36mopen\u001b[0;34m(self, fullurl, data, timeout)\u001b[0m\n\u001b[1;32m    517\u001b[0m \u001b[0;34m\u001b[0m\u001b[0m\n\u001b[1;32m    518\u001b[0m         \u001b[0msys\u001b[0m\u001b[0;34m.\u001b[0m\u001b[0maudit\u001b[0m\u001b[0;34m(\u001b[0m\u001b[0;34m'urllib.Request'\u001b[0m\u001b[0;34m,\u001b[0m \u001b[0mreq\u001b[0m\u001b[0;34m.\u001b[0m\u001b[0mfull_url\u001b[0m\u001b[0;34m,\u001b[0m \u001b[0mreq\u001b[0m\u001b[0;34m.\u001b[0m\u001b[0mdata\u001b[0m\u001b[0;34m,\u001b[0m \u001b[0mreq\u001b[0m\u001b[0;34m.\u001b[0m\u001b[0mheaders\u001b[0m\u001b[0;34m,\u001b[0m \u001b[0mreq\u001b[0m\u001b[0;34m.\u001b[0m\u001b[0mget_method\u001b[0m\u001b[0;34m(\u001b[0m\u001b[0;34m)\u001b[0m\u001b[0;34m)\u001b[0m\u001b[0;34m\u001b[0m\u001b[0;34m\u001b[0m\u001b[0m\n\u001b[0;32m--> 519\u001b[0;31m         \u001b[0mresponse\u001b[0m \u001b[0;34m=\u001b[0m \u001b[0mself\u001b[0m\u001b[0;34m.\u001b[0m\u001b[0m_open\u001b[0m\u001b[0;34m(\u001b[0m\u001b[0mreq\u001b[0m\u001b[0;34m,\u001b[0m \u001b[0mdata\u001b[0m\u001b[0;34m)\u001b[0m\u001b[0;34m\u001b[0m\u001b[0;34m\u001b[0m\u001b[0m\n\u001b[0m\u001b[1;32m    520\u001b[0m \u001b[0;34m\u001b[0m\u001b[0m\n\u001b[1;32m    521\u001b[0m         \u001b[0;31m# post-process response\u001b[0m\u001b[0;34m\u001b[0m\u001b[0;34m\u001b[0m\u001b[0m\n",
            "\u001b[0;32m/usr/lib/python3.10/urllib/request.py\u001b[0m in \u001b[0;36m_open\u001b[0;34m(self, req, data)\u001b[0m\n\u001b[1;32m    534\u001b[0m \u001b[0;34m\u001b[0m\u001b[0m\n\u001b[1;32m    535\u001b[0m         \u001b[0mprotocol\u001b[0m \u001b[0;34m=\u001b[0m \u001b[0mreq\u001b[0m\u001b[0;34m.\u001b[0m\u001b[0mtype\u001b[0m\u001b[0;34m\u001b[0m\u001b[0;34m\u001b[0m\u001b[0m\n\u001b[0;32m--> 536\u001b[0;31m         result = self._call_chain(self.handle_open, protocol, protocol +\n\u001b[0m\u001b[1;32m    537\u001b[0m                                   '_open', req)\n\u001b[1;32m    538\u001b[0m         \u001b[0;32mif\u001b[0m \u001b[0mresult\u001b[0m\u001b[0;34m:\u001b[0m\u001b[0;34m\u001b[0m\u001b[0;34m\u001b[0m\u001b[0m\n",
            "\u001b[0;32m/usr/lib/python3.10/urllib/request.py\u001b[0m in \u001b[0;36m_call_chain\u001b[0;34m(self, chain, kind, meth_name, *args)\u001b[0m\n\u001b[1;32m    494\u001b[0m         \u001b[0;32mfor\u001b[0m \u001b[0mhandler\u001b[0m \u001b[0;32min\u001b[0m \u001b[0mhandlers\u001b[0m\u001b[0;34m:\u001b[0m\u001b[0;34m\u001b[0m\u001b[0;34m\u001b[0m\u001b[0m\n\u001b[1;32m    495\u001b[0m             \u001b[0mfunc\u001b[0m \u001b[0;34m=\u001b[0m \u001b[0mgetattr\u001b[0m\u001b[0;34m(\u001b[0m\u001b[0mhandler\u001b[0m\u001b[0;34m,\u001b[0m \u001b[0mmeth_name\u001b[0m\u001b[0;34m)\u001b[0m\u001b[0;34m\u001b[0m\u001b[0;34m\u001b[0m\u001b[0m\n\u001b[0;32m--> 496\u001b[0;31m             \u001b[0mresult\u001b[0m \u001b[0;34m=\u001b[0m \u001b[0mfunc\u001b[0m\u001b[0;34m(\u001b[0m\u001b[0;34m*\u001b[0m\u001b[0margs\u001b[0m\u001b[0;34m)\u001b[0m\u001b[0;34m\u001b[0m\u001b[0;34m\u001b[0m\u001b[0m\n\u001b[0m\u001b[1;32m    497\u001b[0m             \u001b[0;32mif\u001b[0m \u001b[0mresult\u001b[0m \u001b[0;32mis\u001b[0m \u001b[0;32mnot\u001b[0m \u001b[0;32mNone\u001b[0m\u001b[0;34m:\u001b[0m\u001b[0;34m\u001b[0m\u001b[0;34m\u001b[0m\u001b[0m\n\u001b[1;32m    498\u001b[0m                 \u001b[0;32mreturn\u001b[0m \u001b[0mresult\u001b[0m\u001b[0;34m\u001b[0m\u001b[0;34m\u001b[0m\u001b[0m\n",
            "\u001b[0;32m/usr/lib/python3.10/urllib/request.py\u001b[0m in \u001b[0;36mhttp_open\u001b[0;34m(self, req)\u001b[0m\n\u001b[1;32m   1375\u001b[0m \u001b[0;34m\u001b[0m\u001b[0m\n\u001b[1;32m   1376\u001b[0m     \u001b[0;32mdef\u001b[0m \u001b[0mhttp_open\u001b[0m\u001b[0;34m(\u001b[0m\u001b[0mself\u001b[0m\u001b[0;34m,\u001b[0m \u001b[0mreq\u001b[0m\u001b[0;34m)\u001b[0m\u001b[0;34m:\u001b[0m\u001b[0;34m\u001b[0m\u001b[0;34m\u001b[0m\u001b[0m\n\u001b[0;32m-> 1377\u001b[0;31m         \u001b[0;32mreturn\u001b[0m \u001b[0mself\u001b[0m\u001b[0;34m.\u001b[0m\u001b[0mdo_open\u001b[0m\u001b[0;34m(\u001b[0m\u001b[0mhttp\u001b[0m\u001b[0;34m.\u001b[0m\u001b[0mclient\u001b[0m\u001b[0;34m.\u001b[0m\u001b[0mHTTPConnection\u001b[0m\u001b[0;34m,\u001b[0m \u001b[0mreq\u001b[0m\u001b[0;34m)\u001b[0m\u001b[0;34m\u001b[0m\u001b[0;34m\u001b[0m\u001b[0m\n\u001b[0m\u001b[1;32m   1378\u001b[0m \u001b[0;34m\u001b[0m\u001b[0m\n\u001b[1;32m   1379\u001b[0m     \u001b[0mhttp_request\u001b[0m \u001b[0;34m=\u001b[0m \u001b[0mAbstractHTTPHandler\u001b[0m\u001b[0;34m.\u001b[0m\u001b[0mdo_request_\u001b[0m\u001b[0;34m\u001b[0m\u001b[0;34m\u001b[0m\u001b[0m\n",
            "\u001b[0;32m/usr/lib/python3.10/urllib/request.py\u001b[0m in \u001b[0;36mdo_open\u001b[0;34m(self, http_class, req, **http_conn_args)\u001b[0m\n\u001b[1;32m   1350\u001b[0m             \u001b[0;32mexcept\u001b[0m \u001b[0mOSError\u001b[0m \u001b[0;32mas\u001b[0m \u001b[0merr\u001b[0m\u001b[0;34m:\u001b[0m \u001b[0;31m# timeout error\u001b[0m\u001b[0;34m\u001b[0m\u001b[0;34m\u001b[0m\u001b[0m\n\u001b[1;32m   1351\u001b[0m                 \u001b[0;32mraise\u001b[0m \u001b[0mURLError\u001b[0m\u001b[0;34m(\u001b[0m\u001b[0merr\u001b[0m\u001b[0;34m)\u001b[0m\u001b[0;34m\u001b[0m\u001b[0;34m\u001b[0m\u001b[0m\n\u001b[0;32m-> 1352\u001b[0;31m             \u001b[0mr\u001b[0m \u001b[0;34m=\u001b[0m \u001b[0mh\u001b[0m\u001b[0;34m.\u001b[0m\u001b[0mgetresponse\u001b[0m\u001b[0;34m(\u001b[0m\u001b[0;34m)\u001b[0m\u001b[0;34m\u001b[0m\u001b[0;34m\u001b[0m\u001b[0m\n\u001b[0m\u001b[1;32m   1353\u001b[0m         \u001b[0;32mexcept\u001b[0m\u001b[0;34m:\u001b[0m\u001b[0;34m\u001b[0m\u001b[0;34m\u001b[0m\u001b[0m\n\u001b[1;32m   1354\u001b[0m             \u001b[0mh\u001b[0m\u001b[0;34m.\u001b[0m\u001b[0mclose\u001b[0m\u001b[0;34m(\u001b[0m\u001b[0;34m)\u001b[0m\u001b[0;34m\u001b[0m\u001b[0;34m\u001b[0m\u001b[0m\n",
            "\u001b[0;32m/usr/lib/python3.10/http/client.py\u001b[0m in \u001b[0;36mgetresponse\u001b[0;34m(self)\u001b[0m\n\u001b[1;32m   1373\u001b[0m         \u001b[0;32mtry\u001b[0m\u001b[0;34m:\u001b[0m\u001b[0;34m\u001b[0m\u001b[0;34m\u001b[0m\u001b[0m\n\u001b[1;32m   1374\u001b[0m             \u001b[0;32mtry\u001b[0m\u001b[0;34m:\u001b[0m\u001b[0;34m\u001b[0m\u001b[0;34m\u001b[0m\u001b[0m\n\u001b[0;32m-> 1375\u001b[0;31m                 \u001b[0mresponse\u001b[0m\u001b[0;34m.\u001b[0m\u001b[0mbegin\u001b[0m\u001b[0;34m(\u001b[0m\u001b[0;34m)\u001b[0m\u001b[0;34m\u001b[0m\u001b[0;34m\u001b[0m\u001b[0m\n\u001b[0m\u001b[1;32m   1376\u001b[0m             \u001b[0;32mexcept\u001b[0m \u001b[0mConnectionError\u001b[0m\u001b[0;34m:\u001b[0m\u001b[0;34m\u001b[0m\u001b[0;34m\u001b[0m\u001b[0m\n\u001b[1;32m   1377\u001b[0m                 \u001b[0mself\u001b[0m\u001b[0;34m.\u001b[0m\u001b[0mclose\u001b[0m\u001b[0;34m(\u001b[0m\u001b[0;34m)\u001b[0m\u001b[0;34m\u001b[0m\u001b[0;34m\u001b[0m\u001b[0m\n",
            "\u001b[0;32m/usr/lib/python3.10/http/client.py\u001b[0m in \u001b[0;36mbegin\u001b[0;34m(self)\u001b[0m\n\u001b[1;32m    316\u001b[0m         \u001b[0;31m# read until we get a non-100 response\u001b[0m\u001b[0;34m\u001b[0m\u001b[0;34m\u001b[0m\u001b[0m\n\u001b[1;32m    317\u001b[0m         \u001b[0;32mwhile\u001b[0m \u001b[0;32mTrue\u001b[0m\u001b[0;34m:\u001b[0m\u001b[0;34m\u001b[0m\u001b[0;34m\u001b[0m\u001b[0m\n\u001b[0;32m--> 318\u001b[0;31m             \u001b[0mversion\u001b[0m\u001b[0;34m,\u001b[0m \u001b[0mstatus\u001b[0m\u001b[0;34m,\u001b[0m \u001b[0mreason\u001b[0m \u001b[0;34m=\u001b[0m \u001b[0mself\u001b[0m\u001b[0;34m.\u001b[0m\u001b[0m_read_status\u001b[0m\u001b[0;34m(\u001b[0m\u001b[0;34m)\u001b[0m\u001b[0;34m\u001b[0m\u001b[0;34m\u001b[0m\u001b[0m\n\u001b[0m\u001b[1;32m    319\u001b[0m             \u001b[0;32mif\u001b[0m \u001b[0mstatus\u001b[0m \u001b[0;34m!=\u001b[0m \u001b[0mCONTINUE\u001b[0m\u001b[0;34m:\u001b[0m\u001b[0;34m\u001b[0m\u001b[0;34m\u001b[0m\u001b[0m\n\u001b[1;32m    320\u001b[0m                 \u001b[0;32mbreak\u001b[0m\u001b[0;34m\u001b[0m\u001b[0;34m\u001b[0m\u001b[0m\n",
            "\u001b[0;32m/usr/lib/python3.10/http/client.py\u001b[0m in \u001b[0;36m_read_status\u001b[0;34m(self)\u001b[0m\n\u001b[1;32m    277\u001b[0m \u001b[0;34m\u001b[0m\u001b[0m\n\u001b[1;32m    278\u001b[0m     \u001b[0;32mdef\u001b[0m \u001b[0m_read_status\u001b[0m\u001b[0;34m(\u001b[0m\u001b[0mself\u001b[0m\u001b[0;34m)\u001b[0m\u001b[0;34m:\u001b[0m\u001b[0;34m\u001b[0m\u001b[0;34m\u001b[0m\u001b[0m\n\u001b[0;32m--> 279\u001b[0;31m         \u001b[0mline\u001b[0m \u001b[0;34m=\u001b[0m \u001b[0mstr\u001b[0m\u001b[0;34m(\u001b[0m\u001b[0mself\u001b[0m\u001b[0;34m.\u001b[0m\u001b[0mfp\u001b[0m\u001b[0;34m.\u001b[0m\u001b[0mreadline\u001b[0m\u001b[0;34m(\u001b[0m\u001b[0m_MAXLINE\u001b[0m \u001b[0;34m+\u001b[0m \u001b[0;36m1\u001b[0m\u001b[0;34m)\u001b[0m\u001b[0;34m,\u001b[0m \u001b[0;34m\"iso-8859-1\"\u001b[0m\u001b[0;34m)\u001b[0m\u001b[0;34m\u001b[0m\u001b[0;34m\u001b[0m\u001b[0m\n\u001b[0m\u001b[1;32m    280\u001b[0m         \u001b[0;32mif\u001b[0m \u001b[0mlen\u001b[0m\u001b[0;34m(\u001b[0m\u001b[0mline\u001b[0m\u001b[0;34m)\u001b[0m \u001b[0;34m>\u001b[0m \u001b[0m_MAXLINE\u001b[0m\u001b[0;34m:\u001b[0m\u001b[0;34m\u001b[0m\u001b[0;34m\u001b[0m\u001b[0m\n\u001b[1;32m    281\u001b[0m             \u001b[0;32mraise\u001b[0m \u001b[0mLineTooLong\u001b[0m\u001b[0;34m(\u001b[0m\u001b[0;34m\"status line\"\u001b[0m\u001b[0;34m)\u001b[0m\u001b[0;34m\u001b[0m\u001b[0;34m\u001b[0m\u001b[0m\n",
            "\u001b[0;32m/usr/lib/python3.10/socket.py\u001b[0m in \u001b[0;36mreadinto\u001b[0;34m(self, b)\u001b[0m\n\u001b[1;32m    703\u001b[0m         \u001b[0;32mwhile\u001b[0m \u001b[0;32mTrue\u001b[0m\u001b[0;34m:\u001b[0m\u001b[0;34m\u001b[0m\u001b[0;34m\u001b[0m\u001b[0m\n\u001b[1;32m    704\u001b[0m             \u001b[0;32mtry\u001b[0m\u001b[0;34m:\u001b[0m\u001b[0;34m\u001b[0m\u001b[0;34m\u001b[0m\u001b[0m\n\u001b[0;32m--> 705\u001b[0;31m                 \u001b[0;32mreturn\u001b[0m \u001b[0mself\u001b[0m\u001b[0;34m.\u001b[0m\u001b[0m_sock\u001b[0m\u001b[0;34m.\u001b[0m\u001b[0mrecv_into\u001b[0m\u001b[0;34m(\u001b[0m\u001b[0mb\u001b[0m\u001b[0;34m)\u001b[0m\u001b[0;34m\u001b[0m\u001b[0;34m\u001b[0m\u001b[0m\n\u001b[0m\u001b[1;32m    706\u001b[0m             \u001b[0;32mexcept\u001b[0m \u001b[0mtimeout\u001b[0m\u001b[0;34m:\u001b[0m\u001b[0;34m\u001b[0m\u001b[0;34m\u001b[0m\u001b[0m\n\u001b[1;32m    707\u001b[0m                 \u001b[0mself\u001b[0m\u001b[0;34m.\u001b[0m\u001b[0m_timeout_occurred\u001b[0m \u001b[0;34m=\u001b[0m \u001b[0;32mTrue\u001b[0m\u001b[0;34m\u001b[0m\u001b[0;34m\u001b[0m\u001b[0m\n",
            "\u001b[0;31mKeyboardInterrupt\u001b[0m: "
          ]
        }
      ]
    },
    {
      "cell_type": "code",
      "source": [
        "final_dataframe= pd.read_csv('extracted_features.csv')"
      ],
      "metadata": {
        "id": "dJMS5FrhD9hK"
      },
      "execution_count": null,
      "outputs": []
    },
    {
      "cell_type": "code",
      "source": [
        "final_dataframe.to_csv('extracted_features.csv', index=False)"
      ],
      "metadata": {
        "id": "z6KAUxGkAnHY"
      },
      "execution_count": null,
      "outputs": []
    },
    {
      "cell_type": "code",
      "source": [
        "features"
      ],
      "metadata": {
        "colab": {
          "base_uri": "https://localhost:8080/",
          "height": 424
        },
        "id": "eg8TG4QTN1bV",
        "outputId": "f45dc4c7-30e1-446c-de1e-26ba311033e6"
      },
      "execution_count": null,
      "outputs": [
        {
          "output_type": "execute_result",
          "data": {
            "text/plain": [
              "                              ID  Page  tokenCount  lineCount  emptyLineCount  \\\n",
              "0       uc2.ark+=13960=t7tm76q79     1           2          3               2   \n",
              "1       uc2.ark+=13960=t7tm76q79     2           0          0               0   \n",
              "2       uc2.ark+=13960=t7tm76q79     3           0          0               0   \n",
              "3       uc2.ark+=13960=t7tm76q79     4           0          0               0   \n",
              "4       uc2.ark+=13960=t7tm76q79     5           0          0               0   \n",
              "...                          ...   ...         ...        ...             ...   \n",
              "190987            uva.x002670825   836           0          0               0   \n",
              "190988            uva.x002670825   837           0          0               0   \n",
              "190989            uva.x002670825   838          20         11               0   \n",
              "190990            uva.x002670825   839           8          3               1   \n",
              "190991            uva.x002670825   840         573         77               2   \n",
              "\n",
              "        capAlphaSeq  sentenceCount  \n",
              "0                 0              0  \n",
              "1                 0              0  \n",
              "2                 0              0  \n",
              "3                 0              0  \n",
              "4                 0              0  \n",
              "...             ...            ...  \n",
              "190987            0              0  \n",
              "190988            0              0  \n",
              "190989            2              0  \n",
              "190990            1              0  \n",
              "190991            4             32  \n",
              "\n",
              "[190992 rows x 7 columns]"
            ],
            "text/html": [
              "\n",
              "  <div id=\"df-42ae60e5-ace9-4379-83e0-58472bd330bf\" class=\"colab-df-container\">\n",
              "    <div>\n",
              "<style scoped>\n",
              "    .dataframe tbody tr th:only-of-type {\n",
              "        vertical-align: middle;\n",
              "    }\n",
              "\n",
              "    .dataframe tbody tr th {\n",
              "        vertical-align: top;\n",
              "    }\n",
              "\n",
              "    .dataframe thead th {\n",
              "        text-align: right;\n",
              "    }\n",
              "</style>\n",
              "<table border=\"1\" class=\"dataframe\">\n",
              "  <thead>\n",
              "    <tr style=\"text-align: right;\">\n",
              "      <th></th>\n",
              "      <th>ID</th>\n",
              "      <th>Page</th>\n",
              "      <th>tokenCount</th>\n",
              "      <th>lineCount</th>\n",
              "      <th>emptyLineCount</th>\n",
              "      <th>capAlphaSeq</th>\n",
              "      <th>sentenceCount</th>\n",
              "    </tr>\n",
              "  </thead>\n",
              "  <tbody>\n",
              "    <tr>\n",
              "      <th>0</th>\n",
              "      <td>uc2.ark+=13960=t7tm76q79</td>\n",
              "      <td>1</td>\n",
              "      <td>2</td>\n",
              "      <td>3</td>\n",
              "      <td>2</td>\n",
              "      <td>0</td>\n",
              "      <td>0</td>\n",
              "    </tr>\n",
              "    <tr>\n",
              "      <th>1</th>\n",
              "      <td>uc2.ark+=13960=t7tm76q79</td>\n",
              "      <td>2</td>\n",
              "      <td>0</td>\n",
              "      <td>0</td>\n",
              "      <td>0</td>\n",
              "      <td>0</td>\n",
              "      <td>0</td>\n",
              "    </tr>\n",
              "    <tr>\n",
              "      <th>2</th>\n",
              "      <td>uc2.ark+=13960=t7tm76q79</td>\n",
              "      <td>3</td>\n",
              "      <td>0</td>\n",
              "      <td>0</td>\n",
              "      <td>0</td>\n",
              "      <td>0</td>\n",
              "      <td>0</td>\n",
              "    </tr>\n",
              "    <tr>\n",
              "      <th>3</th>\n",
              "      <td>uc2.ark+=13960=t7tm76q79</td>\n",
              "      <td>4</td>\n",
              "      <td>0</td>\n",
              "      <td>0</td>\n",
              "      <td>0</td>\n",
              "      <td>0</td>\n",
              "      <td>0</td>\n",
              "    </tr>\n",
              "    <tr>\n",
              "      <th>4</th>\n",
              "      <td>uc2.ark+=13960=t7tm76q79</td>\n",
              "      <td>5</td>\n",
              "      <td>0</td>\n",
              "      <td>0</td>\n",
              "      <td>0</td>\n",
              "      <td>0</td>\n",
              "      <td>0</td>\n",
              "    </tr>\n",
              "    <tr>\n",
              "      <th>...</th>\n",
              "      <td>...</td>\n",
              "      <td>...</td>\n",
              "      <td>...</td>\n",
              "      <td>...</td>\n",
              "      <td>...</td>\n",
              "      <td>...</td>\n",
              "      <td>...</td>\n",
              "    </tr>\n",
              "    <tr>\n",
              "      <th>190987</th>\n",
              "      <td>uva.x002670825</td>\n",
              "      <td>836</td>\n",
              "      <td>0</td>\n",
              "      <td>0</td>\n",
              "      <td>0</td>\n",
              "      <td>0</td>\n",
              "      <td>0</td>\n",
              "    </tr>\n",
              "    <tr>\n",
              "      <th>190988</th>\n",
              "      <td>uva.x002670825</td>\n",
              "      <td>837</td>\n",
              "      <td>0</td>\n",
              "      <td>0</td>\n",
              "      <td>0</td>\n",
              "      <td>0</td>\n",
              "      <td>0</td>\n",
              "    </tr>\n",
              "    <tr>\n",
              "      <th>190989</th>\n",
              "      <td>uva.x002670825</td>\n",
              "      <td>838</td>\n",
              "      <td>20</td>\n",
              "      <td>11</td>\n",
              "      <td>0</td>\n",
              "      <td>2</td>\n",
              "      <td>0</td>\n",
              "    </tr>\n",
              "    <tr>\n",
              "      <th>190990</th>\n",
              "      <td>uva.x002670825</td>\n",
              "      <td>839</td>\n",
              "      <td>8</td>\n",
              "      <td>3</td>\n",
              "      <td>1</td>\n",
              "      <td>1</td>\n",
              "      <td>0</td>\n",
              "    </tr>\n",
              "    <tr>\n",
              "      <th>190991</th>\n",
              "      <td>uva.x002670825</td>\n",
              "      <td>840</td>\n",
              "      <td>573</td>\n",
              "      <td>77</td>\n",
              "      <td>2</td>\n",
              "      <td>4</td>\n",
              "      <td>32</td>\n",
              "    </tr>\n",
              "  </tbody>\n",
              "</table>\n",
              "<p>190992 rows × 7 columns</p>\n",
              "</div>\n",
              "    <div class=\"colab-df-buttons\">\n",
              "\n",
              "  <div class=\"colab-df-container\">\n",
              "    <button class=\"colab-df-convert\" onclick=\"convertToInteractive('df-42ae60e5-ace9-4379-83e0-58472bd330bf')\"\n",
              "            title=\"Convert this dataframe to an interactive table.\"\n",
              "            style=\"display:none;\">\n",
              "\n",
              "  <svg xmlns=\"http://www.w3.org/2000/svg\" height=\"24px\" viewBox=\"0 -960 960 960\">\n",
              "    <path d=\"M120-120v-720h720v720H120Zm60-500h600v-160H180v160Zm220 220h160v-160H400v160Zm0 220h160v-160H400v160ZM180-400h160v-160H180v160Zm440 0h160v-160H620v160ZM180-180h160v-160H180v160Zm440 0h160v-160H620v160Z\"/>\n",
              "  </svg>\n",
              "    </button>\n",
              "\n",
              "  <style>\n",
              "    .colab-df-container {\n",
              "      display:flex;\n",
              "      gap: 12px;\n",
              "    }\n",
              "\n",
              "    .colab-df-convert {\n",
              "      background-color: #E8F0FE;\n",
              "      border: none;\n",
              "      border-radius: 50%;\n",
              "      cursor: pointer;\n",
              "      display: none;\n",
              "      fill: #1967D2;\n",
              "      height: 32px;\n",
              "      padding: 0 0 0 0;\n",
              "      width: 32px;\n",
              "    }\n",
              "\n",
              "    .colab-df-convert:hover {\n",
              "      background-color: #E2EBFA;\n",
              "      box-shadow: 0px 1px 2px rgba(60, 64, 67, 0.3), 0px 1px 3px 1px rgba(60, 64, 67, 0.15);\n",
              "      fill: #174EA6;\n",
              "    }\n",
              "\n",
              "    .colab-df-buttons div {\n",
              "      margin-bottom: 4px;\n",
              "    }\n",
              "\n",
              "    [theme=dark] .colab-df-convert {\n",
              "      background-color: #3B4455;\n",
              "      fill: #D2E3FC;\n",
              "    }\n",
              "\n",
              "    [theme=dark] .colab-df-convert:hover {\n",
              "      background-color: #434B5C;\n",
              "      box-shadow: 0px 1px 3px 1px rgba(0, 0, 0, 0.15);\n",
              "      filter: drop-shadow(0px 1px 2px rgba(0, 0, 0, 0.3));\n",
              "      fill: #FFFFFF;\n",
              "    }\n",
              "  </style>\n",
              "\n",
              "    <script>\n",
              "      const buttonEl =\n",
              "        document.querySelector('#df-42ae60e5-ace9-4379-83e0-58472bd330bf button.colab-df-convert');\n",
              "      buttonEl.style.display =\n",
              "        google.colab.kernel.accessAllowed ? 'block' : 'none';\n",
              "\n",
              "      async function convertToInteractive(key) {\n",
              "        const element = document.querySelector('#df-42ae60e5-ace9-4379-83e0-58472bd330bf');\n",
              "        const dataTable =\n",
              "          await google.colab.kernel.invokeFunction('convertToInteractive',\n",
              "                                                    [key], {});\n",
              "        if (!dataTable) return;\n",
              "\n",
              "        const docLinkHtml = 'Like what you see? Visit the ' +\n",
              "          '<a target=\"_blank\" href=https://colab.research.google.com/notebooks/data_table.ipynb>data table notebook</a>'\n",
              "          + ' to learn more about interactive tables.';\n",
              "        element.innerHTML = '';\n",
              "        dataTable['output_type'] = 'display_data';\n",
              "        await google.colab.output.renderOutput(dataTable, element);\n",
              "        const docLink = document.createElement('div');\n",
              "        docLink.innerHTML = docLinkHtml;\n",
              "        element.appendChild(docLink);\n",
              "      }\n",
              "    </script>\n",
              "  </div>\n",
              "\n",
              "\n",
              "<div id=\"df-92d52190-4204-4a8a-8628-93d55320e986\">\n",
              "  <button class=\"colab-df-quickchart\" onclick=\"quickchart('df-92d52190-4204-4a8a-8628-93d55320e986')\"\n",
              "            title=\"Suggest charts\"\n",
              "            style=\"display:none;\">\n",
              "\n",
              "<svg xmlns=\"http://www.w3.org/2000/svg\" height=\"24px\"viewBox=\"0 0 24 24\"\n",
              "     width=\"24px\">\n",
              "    <g>\n",
              "        <path d=\"M19 3H5c-1.1 0-2 .9-2 2v14c0 1.1.9 2 2 2h14c1.1 0 2-.9 2-2V5c0-1.1-.9-2-2-2zM9 17H7v-7h2v7zm4 0h-2V7h2v10zm4 0h-2v-4h2v4z\"/>\n",
              "    </g>\n",
              "</svg>\n",
              "  </button>\n",
              "\n",
              "<style>\n",
              "  .colab-df-quickchart {\n",
              "      --bg-color: #E8F0FE;\n",
              "      --fill-color: #1967D2;\n",
              "      --hover-bg-color: #E2EBFA;\n",
              "      --hover-fill-color: #174EA6;\n",
              "      --disabled-fill-color: #AAA;\n",
              "      --disabled-bg-color: #DDD;\n",
              "  }\n",
              "\n",
              "  [theme=dark] .colab-df-quickchart {\n",
              "      --bg-color: #3B4455;\n",
              "      --fill-color: #D2E3FC;\n",
              "      --hover-bg-color: #434B5C;\n",
              "      --hover-fill-color: #FFFFFF;\n",
              "      --disabled-bg-color: #3B4455;\n",
              "      --disabled-fill-color: #666;\n",
              "  }\n",
              "\n",
              "  .colab-df-quickchart {\n",
              "    background-color: var(--bg-color);\n",
              "    border: none;\n",
              "    border-radius: 50%;\n",
              "    cursor: pointer;\n",
              "    display: none;\n",
              "    fill: var(--fill-color);\n",
              "    height: 32px;\n",
              "    padding: 0;\n",
              "    width: 32px;\n",
              "  }\n",
              "\n",
              "  .colab-df-quickchart:hover {\n",
              "    background-color: var(--hover-bg-color);\n",
              "    box-shadow: 0 1px 2px rgba(60, 64, 67, 0.3), 0 1px 3px 1px rgba(60, 64, 67, 0.15);\n",
              "    fill: var(--button-hover-fill-color);\n",
              "  }\n",
              "\n",
              "  .colab-df-quickchart-complete:disabled,\n",
              "  .colab-df-quickchart-complete:disabled:hover {\n",
              "    background-color: var(--disabled-bg-color);\n",
              "    fill: var(--disabled-fill-color);\n",
              "    box-shadow: none;\n",
              "  }\n",
              "\n",
              "  .colab-df-spinner {\n",
              "    border: 2px solid var(--fill-color);\n",
              "    border-color: transparent;\n",
              "    border-bottom-color: var(--fill-color);\n",
              "    animation:\n",
              "      spin 1s steps(1) infinite;\n",
              "  }\n",
              "\n",
              "  @keyframes spin {\n",
              "    0% {\n",
              "      border-color: transparent;\n",
              "      border-bottom-color: var(--fill-color);\n",
              "      border-left-color: var(--fill-color);\n",
              "    }\n",
              "    20% {\n",
              "      border-color: transparent;\n",
              "      border-left-color: var(--fill-color);\n",
              "      border-top-color: var(--fill-color);\n",
              "    }\n",
              "    30% {\n",
              "      border-color: transparent;\n",
              "      border-left-color: var(--fill-color);\n",
              "      border-top-color: var(--fill-color);\n",
              "      border-right-color: var(--fill-color);\n",
              "    }\n",
              "    40% {\n",
              "      border-color: transparent;\n",
              "      border-right-color: var(--fill-color);\n",
              "      border-top-color: var(--fill-color);\n",
              "    }\n",
              "    60% {\n",
              "      border-color: transparent;\n",
              "      border-right-color: var(--fill-color);\n",
              "    }\n",
              "    80% {\n",
              "      border-color: transparent;\n",
              "      border-right-color: var(--fill-color);\n",
              "      border-bottom-color: var(--fill-color);\n",
              "    }\n",
              "    90% {\n",
              "      border-color: transparent;\n",
              "      border-bottom-color: var(--fill-color);\n",
              "    }\n",
              "  }\n",
              "</style>\n",
              "\n",
              "  <script>\n",
              "    async function quickchart(key) {\n",
              "      const quickchartButtonEl =\n",
              "        document.querySelector('#' + key + ' button');\n",
              "      quickchartButtonEl.disabled = true;  // To prevent multiple clicks.\n",
              "      quickchartButtonEl.classList.add('colab-df-spinner');\n",
              "      try {\n",
              "        const charts = await google.colab.kernel.invokeFunction(\n",
              "            'suggestCharts', [key], {});\n",
              "      } catch (error) {\n",
              "        console.error('Error during call to suggestCharts:', error);\n",
              "      }\n",
              "      quickchartButtonEl.classList.remove('colab-df-spinner');\n",
              "      quickchartButtonEl.classList.add('colab-df-quickchart-complete');\n",
              "    }\n",
              "    (() => {\n",
              "      let quickchartButtonEl =\n",
              "        document.querySelector('#df-92d52190-4204-4a8a-8628-93d55320e986 button');\n",
              "      quickchartButtonEl.style.display =\n",
              "        google.colab.kernel.accessAllowed ? 'block' : 'none';\n",
              "    })();\n",
              "  </script>\n",
              "</div>\n",
              "\n",
              "  <div id=\"id_d9dcc47c-c8dc-462a-8681-3e8d81251c60\">\n",
              "    <style>\n",
              "      .colab-df-generate {\n",
              "        background-color: #E8F0FE;\n",
              "        border: none;\n",
              "        border-radius: 50%;\n",
              "        cursor: pointer;\n",
              "        display: none;\n",
              "        fill: #1967D2;\n",
              "        height: 32px;\n",
              "        padding: 0 0 0 0;\n",
              "        width: 32px;\n",
              "      }\n",
              "\n",
              "      .colab-df-generate:hover {\n",
              "        background-color: #E2EBFA;\n",
              "        box-shadow: 0px 1px 2px rgba(60, 64, 67, 0.3), 0px 1px 3px 1px rgba(60, 64, 67, 0.15);\n",
              "        fill: #174EA6;\n",
              "      }\n",
              "\n",
              "      [theme=dark] .colab-df-generate {\n",
              "        background-color: #3B4455;\n",
              "        fill: #D2E3FC;\n",
              "      }\n",
              "\n",
              "      [theme=dark] .colab-df-generate:hover {\n",
              "        background-color: #434B5C;\n",
              "        box-shadow: 0px 1px 3px 1px rgba(0, 0, 0, 0.15);\n",
              "        filter: drop-shadow(0px 1px 2px rgba(0, 0, 0, 0.3));\n",
              "        fill: #FFFFFF;\n",
              "      }\n",
              "    </style>\n",
              "    <button class=\"colab-df-generate\" onclick=\"generateWithVariable('features')\"\n",
              "            title=\"Generate code using this dataframe.\"\n",
              "            style=\"display:none;\">\n",
              "\n",
              "  <svg xmlns=\"http://www.w3.org/2000/svg\" height=\"24px\"viewBox=\"0 0 24 24\"\n",
              "       width=\"24px\">\n",
              "    <path d=\"M7,19H8.4L18.45,9,17,7.55,7,17.6ZM5,21V16.75L18.45,3.32a2,2,0,0,1,2.83,0l1.4,1.43a1.91,1.91,0,0,1,.58,1.4,1.91,1.91,0,0,1-.58,1.4L9.25,21ZM18.45,9,17,7.55Zm-12,3A5.31,5.31,0,0,0,4.9,8.1,5.31,5.31,0,0,0,1,6.5,5.31,5.31,0,0,0,4.9,4.9,5.31,5.31,0,0,0,6.5,1,5.31,5.31,0,0,0,8.1,4.9,5.31,5.31,0,0,0,12,6.5,5.46,5.46,0,0,0,6.5,12Z\"/>\n",
              "  </svg>\n",
              "    </button>\n",
              "    <script>\n",
              "      (() => {\n",
              "      const buttonEl =\n",
              "        document.querySelector('#id_d9dcc47c-c8dc-462a-8681-3e8d81251c60 button.colab-df-generate');\n",
              "      buttonEl.style.display =\n",
              "        google.colab.kernel.accessAllowed ? 'block' : 'none';\n",
              "\n",
              "      buttonEl.onclick = () => {\n",
              "        google.colab.notebook.generateWithVariable('features');\n",
              "      }\n",
              "      })();\n",
              "    </script>\n",
              "  </div>\n",
              "\n",
              "    </div>\n",
              "  </div>\n"
            ],
            "application/vnd.google.colaboratory.intrinsic+json": {
              "type": "dataframe",
              "variable_name": "features"
            }
          },
          "metadata": {},
          "execution_count": 61
        }
      ]
    },
    {
      "cell_type": "markdown",
      "source": [
        "### table 2 prerpocess\n"
      ],
      "metadata": {
        "id": "Y6jPqdiXl4Zf"
      }
    },
    {
      "cell_type": "code",
      "source": [
        "features = pd.read_csv('extracted_features.csv')\n",
        "\n",
        "import pandas as pd\n",
        "\n",
        "\n",
        "# Perform an inner join on 'ID' and 'Page' to filter `extracted_features`\n",
        "def filtered_extracted_features(features, book_annotation):\n",
        "    filtered_extracted_features = pd.merge(features, book_annotation[['ID', 'Page']], on=['ID', 'Page'], how='inner')\n",
        "    return filtered_extracted_features\n",
        "\n",
        "# Display the resulting DataFrame\n",
        "# filtered_extracted_features\n"
      ],
      "metadata": {
        "id": "Bihqo1aCl9F8"
      },
      "execution_count": null,
      "outputs": []
    },
    {
      "cell_type": "code",
      "source": [
        "filtered_features = filtered_extracted_features(features, book_annotation)"
      ],
      "metadata": {
        "id": "nr9Zf0sWoL38"
      },
      "execution_count": null,
      "outputs": []
    },
    {
      "cell_type": "code",
      "source": [
        "filtered_features.to_csv('filtered_extracted_features.csv', index=False)"
      ],
      "metadata": {
        "id": "HUZlywfPoPZV"
      },
      "execution_count": null,
      "outputs": []
    }
  ]
}